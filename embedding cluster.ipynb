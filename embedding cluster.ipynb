{
 "cells": [
  {
   "cell_type": "code",
   "execution_count": 1,
   "metadata": {},
   "outputs": [
    {
     "name": "stderr",
     "output_type": "stream",
     "text": [
      "/Users/ethancy/fb_crawling/venv/lib/python3.8/site-packages/gensim/similarities/__init__.py:15: UserWarning: The gensim.similarities.levenshtein submodule is disabled, because the optional Levenshtein package <https://pypi.org/project/python-Levenshtein/> is unavailable. Install Levenhstein (e.g. `pip install python-Levenshtein`) to suppress this warning.\n",
      "  warnings.warn(msg)\n"
     ]
    }
   ],
   "source": [
    "import re\n",
    "from ast import literal_eval\n",
    "\n",
    "import pandas as pd\n",
    "pd.options.display.max_rows = 999\n",
    "\n",
    "\n",
    "from gensim.models import KeyedVectors\n",
    "from sklearn.cluster import KMeans\n",
    "\n",
    "from data.my_configs import positive_words, negative_words"
   ]
  },
  {
   "cell_type": "markdown",
   "metadata": {},
   "source": [
    "## setup"
   ]
  },
  {
   "cell_type": "code",
   "execution_count": 2,
   "metadata": {},
   "outputs": [
    {
     "name": "stdout",
     "output_type": "stream",
     "text": [
      "CPU times: user 3min 5s, sys: 2.5 s, total: 3min 8s\n",
      "Wall time: 3min 13s\n"
     ]
    }
   ],
   "source": [
    "%%time\n",
    "# 這是別人訓練好的word2vec模型，使用整份中文wiki 文本\n",
    "# https://github.com/lintseju/word_embedding\n",
    "wiki_word2vec_model = KeyedVectors.load_word2vec_format(\"./src/wiki/zh_wiki_word2vec_300.txt\")"
   ]
  },
  {
   "cell_type": "markdown",
   "metadata": {},
   "source": [
    "# 載入斷詞結果"
   ]
  },
  {
   "cell_type": "code",
   "execution_count": 3,
   "metadata": {},
   "outputs": [],
   "source": [
    "posts = pd.read_csv(\"./data/refined/post_with_seg.csv\")\n",
    "comments_by_author = pd.read_csv(\"./data/refined/comments_by_author_with_seg.csv\")\n",
    "posts['word_list'] = posts['word_list'].apply(literal_eval)\n",
    "comments_by_author['word_list'] = comments_by_author['word_list'].apply(literal_eval)"
   ]
  },
  {
   "cell_type": "markdown",
   "metadata": {},
   "source": [
    "# 貼文分群"
   ]
  },
  {
   "cell_type": "code",
   "execution_count": 4,
   "metadata": {},
   "outputs": [],
   "source": [
    "post_word_threshold = 0 # 最少要在所有留言中出現幾次才納入分析\n",
    "temp = posts.set_index(['post_url'])['word_list'].rename('word_count').explode()\n",
    "val_count = pd.DataFrame(temp.value_counts())\n",
    "val_count['word'] = val_count.index.values\n",
    "val_count = val_count[(val_count['word'].apply(len)>1) & (val_count['word_count']>post_word_threshold)]"
   ]
  },
  {
   "cell_type": "code",
   "execution_count": 5,
   "metadata": {},
   "outputs": [
    {
     "name": "stdout",
     "output_type": "stream",
     "text": [
      "(1945, 300)\n"
     ]
    }
   ],
   "source": [
    "# 之中共有4.5k個字有在 wiki中\n",
    "post_embedding = val_count['word'].apply(lambda x:wiki_word2vec_model[x] if x in wiki_word2vec_model else None).dropna()\n",
    "post_embedding_df = pd.DataFrame.from_dict(dict(zip(post_embedding.index, post_embedding.values))).T\n",
    "print(post_embedding_df.shape)\n"
   ]
  },
  {
   "cell_type": "code",
   "execution_count": 6,
   "metadata": {},
   "outputs": [
    {
     "name": "stdout",
     "output_type": "stream",
     "text": [
      "CPU times: user 1.7 s, sys: 374 ms, total: 2.08 s\n",
      "Wall time: 362 ms\n"
     ]
    }
   ],
   "source": [
    "%%time\n",
    "# within = []\n",
    "\n",
    "num_cluster = 5\n",
    "post_kmeans_model = KMeans(n_clusters=num_cluster)\n",
    "post_embedding_df['cluster'] = post_kmeans_model.fit_predict(post_embedding_df[[i for i in range(300)]])\n",
    "# within.append(kmeans_model.inertia_)"
   ]
  },
  {
   "cell_type": "code",
   "execution_count": 7,
   "metadata": {},
   "outputs": [],
   "source": [
    "post_cluster_ser = post_embedding_df['cluster'].reset_index().groupby('cluster')['index'].agg(list).apply(lambda x:set([word for word in x if len(word)>1]))\n",
    "post_cluster_df = post_cluster_ser.to_frame().rename({'index':'cluster_words'},axis='columns')\n"
   ]
  },
  {
   "cell_type": "code",
   "execution_count": null,
   "metadata": {},
   "outputs": [],
   "source": []
  },
  {
   "cell_type": "code",
   "execution_count": 8,
   "metadata": {},
   "outputs": [],
   "source": [
    "post_cluster_df['sentiment_pos'] = post_cluster_df['cluster_words'].apply(lambda x:sum([1 for word in x if word in positive_words and word not in negative_words]))\n",
    "post_cluster_df['sentiment_neg'] = post_cluster_df['cluster_words'].apply(lambda x:sum([1 for word in x if word in negative_words and word not in positive_words]))\n",
    "post_cluster_df['sentiment_score'] = post_cluster_df['sentiment_pos']/(post_cluster_df['sentiment_pos']+post_cluster_df['sentiment_neg'])\n"
   ]
  },
  {
   "cell_type": "code",
   "execution_count": 9,
   "metadata": {},
   "outputs": [
    {
     "data": {
      "text/html": [
       "<div>\n",
       "<style scoped>\n",
       "    .dataframe tbody tr th:only-of-type {\n",
       "        vertical-align: middle;\n",
       "    }\n",
       "\n",
       "    .dataframe tbody tr th {\n",
       "        vertical-align: top;\n",
       "    }\n",
       "\n",
       "    .dataframe thead th {\n",
       "        text-align: right;\n",
       "    }\n",
       "</style>\n",
       "<table border=\"1\" class=\"dataframe\">\n",
       "  <thead>\n",
       "    <tr style=\"text-align: right;\">\n",
       "      <th></th>\n",
       "      <th>cluster_words</th>\n",
       "      <th>sentiment_pos</th>\n",
       "      <th>sentiment_neg</th>\n",
       "      <th>sentiment_score</th>\n",
       "    </tr>\n",
       "    <tr>\n",
       "      <th>cluster</th>\n",
       "      <th></th>\n",
       "      <th></th>\n",
       "      <th></th>\n",
       "      <th></th>\n",
       "    </tr>\n",
       "  </thead>\n",
       "  <tbody>\n",
       "    <tr>\n",
       "      <th>0</th>\n",
       "      <td>{新聞, 弱勢, 官員, 防範, 破損, 立場, 避開, 不當, 動態, 點火, 回應, 缺...</td>\n",
       "      <td>53</td>\n",
       "      <td>68</td>\n",
       "      <td>0.438017</td>\n",
       "    </tr>\n",
       "    <tr>\n",
       "      <th>1</th>\n",
       "      <td>{鄭文燦, 好市, 北門, 基隆, 淡水, 海線, 嘉義, 秘書長, 市長, 立委, 中藝,...</td>\n",
       "      <td>0</td>\n",
       "      <td>0</td>\n",
       "      <td>NaN</td>\n",
       "    </tr>\n",
       "    <tr>\n",
       "      <th>2</th>\n",
       "      <td>{藍色, 破綻, 大門, 絞碎, 沒用, 痛罵, 發錢, 齊發, 走走, 小鎮, 蛋糕, 褲...</td>\n",
       "      <td>42</td>\n",
       "      <td>61</td>\n",
       "      <td>0.407767</td>\n",
       "    </tr>\n",
       "    <tr>\n",
       "      <th>3</th>\n",
       "      <td>{人次, 市集, 付錢, 偽鈔, 日租, 綁定, 搶客, 手續費, 攤位, 舉債, 事務機,...</td>\n",
       "      <td>5</td>\n",
       "      <td>8</td>\n",
       "      <td>0.384615</td>\n",
       "    </tr>\n",
       "    <tr>\n",
       "      <th>4</th>\n",
       "      <td>{回填, 理由, 出去, 成分, 以下, 最近, 控制, 收到, 做好, 效果, 正面, n...</td>\n",
       "      <td>58</td>\n",
       "      <td>48</td>\n",
       "      <td>0.547170</td>\n",
       "    </tr>\n",
       "  </tbody>\n",
       "</table>\n",
       "</div>"
      ],
      "text/plain": [
       "                                             cluster_words  sentiment_pos  \\\n",
       "cluster                                                                     \n",
       "0        {新聞, 弱勢, 官員, 防範, 破損, 立場, 避開, 不當, 動態, 點火, 回應, 缺...             53   \n",
       "1        {鄭文燦, 好市, 北門, 基隆, 淡水, 海線, 嘉義, 秘書長, 市長, 立委, 中藝,...              0   \n",
       "2        {藍色, 破綻, 大門, 絞碎, 沒用, 痛罵, 發錢, 齊發, 走走, 小鎮, 蛋糕, 褲...             42   \n",
       "3        {人次, 市集, 付錢, 偽鈔, 日租, 綁定, 搶客, 手續費, 攤位, 舉債, 事務機,...              5   \n",
       "4        {回填, 理由, 出去, 成分, 以下, 最近, 控制, 收到, 做好, 效果, 正面, n...             58   \n",
       "\n",
       "         sentiment_neg  sentiment_score  \n",
       "cluster                                  \n",
       "0                   68         0.438017  \n",
       "1                    0              NaN  \n",
       "2                   61         0.407767  \n",
       "3                    8         0.384615  \n",
       "4                   48         0.547170  "
      ]
     },
     "execution_count": 9,
     "metadata": {},
     "output_type": "execute_result"
    }
   ],
   "source": [
    "post_cluster_df"
   ]
  },
  {
   "cell_type": "code",
   "execution_count": null,
   "metadata": {},
   "outputs": [],
   "source": []
  },
  {
   "cell_type": "markdown",
   "metadata": {},
   "source": [
    "# 留言分群"
   ]
  },
  {
   "cell_type": "code",
   "execution_count": 10,
   "metadata": {},
   "outputs": [],
   "source": [
    "comment_word_threshold = 20 # 最少要在所有留言中出現幾次才納入分析\n",
    "temp = comments_by_author.set_index(['post_url','author'])['word_list'].rename('word_count').explode()\n",
    "val_count = pd.DataFrame(temp.value_counts())\n",
    "val_count['word'] = val_count.index.values\n",
    "val_count = val_count[(val_count['word'].apply(len)>1) & (val_count['word_count']>comment_word_threshold)]"
   ]
  },
  {
   "cell_type": "code",
   "execution_count": 11,
   "metadata": {},
   "outputs": [
    {
     "name": "stdout",
     "output_type": "stream",
     "text": [
      "(3893, 300)\n"
     ]
    }
   ],
   "source": [
    "# 之中共有4.5k個字有在 wiki中\n",
    "comment_embedding = val_count['word'].apply(lambda x:wiki_word2vec_model[x] if x in wiki_word2vec_model else None).dropna()\n",
    "comment_embedding_df = pd.DataFrame.from_dict(dict(zip(comment_embedding.index, comment_embedding.values))).T\n",
    "print(comment_embedding_df.shape)\n"
   ]
  },
  {
   "cell_type": "code",
   "execution_count": 12,
   "metadata": {},
   "outputs": [
    {
     "name": "stdout",
     "output_type": "stream",
     "text": [
      "CPU times: user 3.43 s, sys: 869 ms, total: 4.3 s\n",
      "Wall time: 582 ms\n"
     ]
    }
   ],
   "source": [
    "%%time\n",
    "# within = []\n",
    "\n",
    "num_cluster = 5\n",
    "comment_kmeans_model = KMeans(n_clusters=num_cluster)\n",
    "comment_embedding_df['cluster'] = comment_kmeans_model.fit_predict(comment_embedding_df[[i for i in range(300)]])\n",
    "# within.append(kmeans_model.inertia_)"
   ]
  },
  {
   "cell_type": "code",
   "execution_count": 13,
   "metadata": {},
   "outputs": [],
   "source": [
    "comment_cluster_ser = comment_embedding_df['cluster'].reset_index().groupby('cluster')['index'].agg(list).apply(lambda x:set([word for word in x if len(word)>1]))\n",
    "comment_cluster_df = comment_cluster_ser.to_frame().rename({'index':'cluster_words'},axis='columns')"
   ]
  },
  {
   "cell_type": "code",
   "execution_count": null,
   "metadata": {},
   "outputs": [],
   "source": []
  },
  {
   "cell_type": "code",
   "execution_count": 14,
   "metadata": {},
   "outputs": [],
   "source": [
    "comment_cluster_df['sentiment_pos'] = comment_cluster_df['cluster_words'].apply(lambda x:sum([1 for word in x if word in positive_words and word not in negative_words]))\n",
    "comment_cluster_df['sentiment_neg'] = comment_cluster_df['cluster_words'].apply(lambda x:sum([1 for word in x if word in negative_words and word not in positive_words]))\n",
    "comment_cluster_df['sentiment_score'] = comment_cluster_df['sentiment_pos']/(comment_cluster_df['sentiment_pos']+comment_cluster_df['sentiment_neg'])\n"
   ]
  },
  {
   "cell_type": "code",
   "execution_count": 15,
   "metadata": {},
   "outputs": [
    {
     "data": {
      "text/html": [
       "<div>\n",
       "<style scoped>\n",
       "    .dataframe tbody tr th:only-of-type {\n",
       "        vertical-align: middle;\n",
       "    }\n",
       "\n",
       "    .dataframe tbody tr th {\n",
       "        vertical-align: top;\n",
       "    }\n",
       "\n",
       "    .dataframe thead th {\n",
       "        text-align: right;\n",
       "    }\n",
       "</style>\n",
       "<table border=\"1\" class=\"dataframe\">\n",
       "  <thead>\n",
       "    <tr style=\"text-align: right;\">\n",
       "      <th></th>\n",
       "      <th>cluster_words</th>\n",
       "      <th>sentiment_pos</th>\n",
       "      <th>sentiment_neg</th>\n",
       "      <th>sentiment_score</th>\n",
       "    </tr>\n",
       "    <tr>\n",
       "      <th>cluster</th>\n",
       "      <th></th>\n",
       "      <th></th>\n",
       "      <th></th>\n",
       "      <th></th>\n",
       "    </tr>\n",
       "  </thead>\n",
       "  <tbody>\n",
       "    <tr>\n",
       "      <th>0</th>\n",
       "      <td>{新聞, 弱勢, 官員, 總機, 權利, 連署, 立場, 立委, 不當, 回應, 貪官, 查...</td>\n",
       "      <td>16</td>\n",
       "      <td>75</td>\n",
       "      <td>0.175824</td>\n",
       "    </tr>\n",
       "    <tr>\n",
       "      <th>1</th>\n",
       "      <td>{所有人, 百科全书, 理由, 收回, 普遍, 字眼, 智慧, 最近, 以下, 控制, 本土...</td>\n",
       "      <td>105</td>\n",
       "      <td>108</td>\n",
       "      <td>0.492958</td>\n",
       "    </tr>\n",
       "    <tr>\n",
       "      <th>2</th>\n",
       "      <td>{緊縮, 收據, 不動產, pay, 電話費, 消費券, 貸款, 年金, 帳單, 勞力, 掏...</td>\n",
       "      <td>9</td>\n",
       "      <td>20</td>\n",
       "      <td>0.310345</td>\n",
       "    </tr>\n",
       "    <tr>\n",
       "      <th>3</th>\n",
       "      <td>{藍色, 基隆, 順序, 避開, 教會, 泰國, 歐美, 缺點, 部門, 障礙, 台南, 選...</td>\n",
       "      <td>89</td>\n",
       "      <td>63</td>\n",
       "      <td>0.585526</td>\n",
       "    </tr>\n",
       "    <tr>\n",
       "      <th>4</th>\n",
       "      <td>{驚訝, 出去, 感動, 打炮, 走走, 漂亮, 蛋糕, 被當, 排骨, 外面, 同學, 見...</td>\n",
       "      <td>107</td>\n",
       "      <td>320</td>\n",
       "      <td>0.250585</td>\n",
       "    </tr>\n",
       "  </tbody>\n",
       "</table>\n",
       "</div>"
      ],
      "text/plain": [
       "                                             cluster_words  sentiment_pos  \\\n",
       "cluster                                                                     \n",
       "0        {新聞, 弱勢, 官員, 總機, 權利, 連署, 立場, 立委, 不當, 回應, 貪官, 查...             16   \n",
       "1        {所有人, 百科全书, 理由, 收回, 普遍, 字眼, 智慧, 最近, 以下, 控制, 本土...            105   \n",
       "2        {緊縮, 收據, 不動產, pay, 電話費, 消費券, 貸款, 年金, 帳單, 勞力, 掏...              9   \n",
       "3        {藍色, 基隆, 順序, 避開, 教會, 泰國, 歐美, 缺點, 部門, 障礙, 台南, 選...             89   \n",
       "4        {驚訝, 出去, 感動, 打炮, 走走, 漂亮, 蛋糕, 被當, 排骨, 外面, 同學, 見...            107   \n",
       "\n",
       "         sentiment_neg  sentiment_score  \n",
       "cluster                                  \n",
       "0                   75         0.175824  \n",
       "1                  108         0.492958  \n",
       "2                   20         0.310345  \n",
       "3                   63         0.585526  \n",
       "4                  320         0.250585  "
      ]
     },
     "execution_count": 15,
     "metadata": {},
     "output_type": "execute_result"
    }
   ],
   "source": [
    "comment_cluster_df"
   ]
  },
  {
   "cell_type": "code",
   "execution_count": null,
   "metadata": {},
   "outputs": [],
   "source": []
  },
  {
   "cell_type": "code",
   "execution_count": null,
   "metadata": {},
   "outputs": [],
   "source": []
  }
 ],
 "metadata": {
  "kernelspec": {
   "display_name": "Python 3",
   "language": "python",
   "name": "python3"
  },
  "language_info": {
   "codemirror_mode": {
    "name": "ipython",
    "version": 3
   },
   "file_extension": ".py",
   "mimetype": "text/x-python",
   "name": "python",
   "nbconvert_exporter": "python",
   "pygments_lexer": "ipython3",
   "version": "3.8.7"
  }
 },
 "nbformat": 4,
 "nbformat_minor": 4
}
