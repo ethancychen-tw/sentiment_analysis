{
 "cells": [
  {
   "cell_type": "code",
   "execution_count": 1,
   "metadata": {},
   "outputs": [],
   "source": [
    "import re\n",
    "import os\n",
    "import json\n",
    "import itertools\n",
    "import pandas as pd\n",
    "pd.set_option('display.max_colwidth', 1000)"
   ]
  },
  {
   "cell_type": "code",
   "execution_count": 2,
   "metadata": {},
   "outputs": [],
   "source": [
    "filename_list = os.listdir(\"./data/posts_comments/\")\n",
    "data_list = []\n",
    "for i in filename_list:\n",
    "    if i not in [\".ipynb_checkpoints\", \".DS_Store\"]:\n",
    "        try:\n",
    "            data_list.append(json.load(open(\"./data/posts_comments/\"+i,\"r\")))\n",
    "        except:\n",
    "            print(f\"error {i}\")"
   ]
  },
  {
   "cell_type": "code",
   "execution_count": 3,
   "metadata": {},
   "outputs": [],
   "source": [
    "f = open(\"./data/exclude_link.txt\", \"r\")\n",
    "exclude_post_links = f.readlines()\n",
    "exclude_post_links = [link.replace(\"\\n\",\"\" ) for link in exclude_post_links]\n",
    "data_list = [post for post in data_list if post['post_url'] not in exclude_post_links]"
   ]
  },
  {
   "cell_type": "code",
   "execution_count": 4,
   "metadata": {},
   "outputs": [],
   "source": [
    "post_df = pd.DataFrame()\n",
    "for col in ['post_url','post_time','post_content','link_title']:\n",
    "    post_df[col] = [post.get(col,None) for post in data_list]\n",
    "\n",
    "post_df['total_reaction'] = [post.get('reaction_stat',dict()).get('total', None) for post in data_list]\n",
    "post_df['total_reaction'] = post_df['total_reaction'].apply(lambda x:float(x.replace('K',\"\"))*1000 if 'K' in x else int(x))\n",
    "post_df['top_3_reaction'] = [post.get('reaction_stat',dict()).get('top_3_reaction', None) for post in data_list]\n",
    "post_df['top_3_reaction'] = post_df['top_3_reaction'].apply(lambda x:{i.split(\":\")[0]:i.split(\":\")[-1] for i in x})\n",
    "post_df = pd.concat([post_df, post_df['top_3_reaction'].apply(pd.Series)],axis='columns')\n",
    "for col in ['Like','Haha','Angry','Wow','Love','Sad','Care']:\n",
    "    post_df[col] = post_df[col].fillna('0 people')\n",
    "    post_df[col] = post_df[col].str.replace(\"people\",\"\")\n",
    "    post_df[col] = post_df[col].str.replace(\"person\",\"\")\n",
    "    post_df[col] = post_df[col].apply(lambda x:float(x.replace(\"K\",\"\"))*1000 if \"K\" in x else int(x))\n",
    "post_df = post_df.drop(['top_3_reaction'],axis='columns')\n",
    "post_df['fanpage'] = post_df['post_url'].apply(lambda x:x.split(\"/posts\")[0].split(\"/\")[-1])"
   ]
  },
  {
   "cell_type": "code",
   "execution_count": 5,
   "metadata": {},
   "outputs": [
    {
     "data": {
      "text/html": [
       "<div>\n",
       "<style scoped>\n",
       "    .dataframe tbody tr th:only-of-type {\n",
       "        vertical-align: middle;\n",
       "    }\n",
       "\n",
       "    .dataframe tbody tr th {\n",
       "        vertical-align: top;\n",
       "    }\n",
       "\n",
       "    .dataframe thead th {\n",
       "        text-align: right;\n",
       "    }\n",
       "</style>\n",
       "<table border=\"1\" class=\"dataframe\">\n",
       "  <thead>\n",
       "    <tr style=\"text-align: right;\">\n",
       "      <th></th>\n",
       "      <th>post_url</th>\n",
       "      <th>post_time</th>\n",
       "      <th>post_content</th>\n",
       "      <th>link_title</th>\n",
       "      <th>total_reaction</th>\n",
       "      <th>Like</th>\n",
       "      <th>Haha</th>\n",
       "      <th>Angry</th>\n",
       "      <th>Wow</th>\n",
       "      <th>Love</th>\n",
       "      <th>Sad</th>\n",
       "      <th>Care</th>\n",
       "      <th>fanpage</th>\n",
       "    </tr>\n",
       "  </thead>\n",
       "  <tbody>\n",
       "    <tr>\n",
       "      <th>0</th>\n",
       "      <td>https://www.facebook.com/ETtoday/posts/3576468832389255</td>\n",
       "      <td>July 18, 2020</td>\n",
       "      <td>綁定電子，連紙都省了\\n（#丹利老爹）\\n●快下載新聞雲App掌握政治大小事\\nhttp://goo.gl/sJmzjp</td>\n",
       "      <td>「塑膠片」固定三倍券！網嗆「到底是誰想的」：不能用紙夾嗎？ | ETtoday新聞雲</td>\n",
       "      <td>1700.0</td>\n",
       "      <td>1300.0</td>\n",
       "      <td>288.0</td>\n",
       "      <td>35.0</td>\n",
       "      <td>0.0</td>\n",
       "      <td>0</td>\n",
       "      <td>0</td>\n",
       "      <td>0</td>\n",
       "      <td>ETtoday</td>\n",
       "    </tr>\n",
       "    <tr>\n",
       "      <th>1</th>\n",
       "      <td>https://www.facebook.com/ETtoday/posts/3570621259640679</td>\n",
       "      <td>July 16, 2020</td>\n",
       "      <td>各位家長們怎麼看呢？？（#漁紋熱 \\n）\\n●快下載新聞雲App掌握社會大小事\\nhttp://goo.gl/sJmzjp</td>\n",
       "      <td>領1萬2三倍券！單親媽遭國二孩討錢回絕竟被嗆「侵占」...網友戰翻 | ETtoday新聞雲</td>\n",
       "      <td>729.0</td>\n",
       "      <td>531.0</td>\n",
       "      <td>114.0</td>\n",
       "      <td>0.0</td>\n",
       "      <td>66.0</td>\n",
       "      <td>0</td>\n",
       "      <td>0</td>\n",
       "      <td>0</td>\n",
       "      <td>ETtoday</td>\n",
       "    </tr>\n",
       "    <tr>\n",
       "      <th>2</th>\n",
       "      <td>https://www.facebook.com/tvbsfb/posts/10157527479600933</td>\n",
       "      <td>July 29, 2020</td>\n",
       "      <td>5.4億印製成本？！！\\n下載食尚玩家APP！投票抽住宿券→https://bit.ly/302HnCl\\n【經濟部認了！3倍券光印製就砸5.4億「多消費券2倍」】\\nhttps://news.tvbs.com.tw/life/1361378?from=fbarticle</td>\n",
       "      <td>經濟部認了！3倍券光印製就砸5.4億「多消費券2倍」│TVBS新聞網</td>\n",
       "      <td>12000.0</td>\n",
       "      <td>4800.0</td>\n",
       "      <td>1700.0</td>\n",
       "      <td>4500.0</td>\n",
       "      <td>0.0</td>\n",
       "      <td>0</td>\n",
       "      <td>0</td>\n",
       "      <td>0</td>\n",
       "      <td>tvbsfb</td>\n",
       "    </tr>\n",
       "    <tr>\n",
       "      <th>3</th>\n",
       "      <td>https://www.facebook.com/YahooTWNews/posts/3499216643460610</td>\n",
       "      <td>July 13, 2020</td>\n",
       "      <td>網友大嘆：「無法理解想便民為何做半套？」\\n#三倍券 #簡訊 #領取 #YDD</td>\n",
       "      <td>他收三倍券簡訊氣炸 網：唐鳳寫的？ - Yahoo奇摩新聞</td>\n",
       "      <td>920.0</td>\n",
       "      <td>704.0</td>\n",
       "      <td>132.0</td>\n",
       "      <td>51.0</td>\n",
       "      <td>0.0</td>\n",
       "      <td>0</td>\n",
       "      <td>0</td>\n",
       "      <td>0</td>\n",
       "      <td>YahooTWNews</td>\n",
       "    </tr>\n",
       "    <tr>\n",
       "      <th>4</th>\n",
       "      <td>https://www.facebook.com/news.ebc/posts/4301458776555847</td>\n",
       "      <td>May 25, 2020</td>\n",
       "      <td>付1千領3千 人人皆可領！政院砸400億發振興券\\n#看我這編：大家覺得這次的振興券如何呢\\n#行政院 #振興券 #消費</td>\n",
       "      <td>付1千領3千 人人皆可領！政院砸400億發振興券｜東森財經新聞</td>\n",
       "      <td>2200.0</td>\n",
       "      <td>1600.0</td>\n",
       "      <td>180.0</td>\n",
       "      <td>371.0</td>\n",
       "      <td>0.0</td>\n",
       "      <td>0</td>\n",
       "      <td>0</td>\n",
       "      <td>0</td>\n",
       "      <td>news.ebc</td>\n",
       "    </tr>\n",
       "  </tbody>\n",
       "</table>\n",
       "</div>"
      ],
      "text/plain": [
       "                                                      post_url      post_time  \\\n",
       "0      https://www.facebook.com/ETtoday/posts/3576468832389255  July 18, 2020   \n",
       "1      https://www.facebook.com/ETtoday/posts/3570621259640679  July 16, 2020   \n",
       "2      https://www.facebook.com/tvbsfb/posts/10157527479600933  July 29, 2020   \n",
       "3  https://www.facebook.com/YahooTWNews/posts/3499216643460610  July 13, 2020   \n",
       "4     https://www.facebook.com/news.ebc/posts/4301458776555847   May 25, 2020   \n",
       "\n",
       "                                                                                                                               post_content  \\\n",
       "0                                                                              綁定電子，連紙都省了\\n（#丹利老爹）\\n●快下載新聞雲App掌握政治大小事\\nhttp://goo.gl/sJmzjp   \n",
       "1                                                                             各位家長們怎麼看呢？？（#漁紋熱 \\n）\\n●快下載新聞雲App掌握社會大小事\\nhttp://goo.gl/sJmzjp   \n",
       "2  5.4億印製成本？！！\\n下載食尚玩家APP！投票抽住宿券→https://bit.ly/302HnCl\\n【經濟部認了！3倍券光印製就砸5.4億「多消費券2倍」】\\nhttps://news.tvbs.com.tw/life/1361378?from=fbarticle   \n",
       "3                                                                                                   網友大嘆：「無法理解想便民為何做半套？」\\n#三倍券 #簡訊 #領取 #YDD   \n",
       "4                                                                              付1千領3千 人人皆可領！政院砸400億發振興券\\n#看我這編：大家覺得這次的振興券如何呢\\n#行政院 #振興券 #消費   \n",
       "\n",
       "                                       link_title  total_reaction    Like  \\\n",
       "0      「塑膠片」固定三倍券！網嗆「到底是誰想的」：不能用紙夾嗎？ | ETtoday新聞雲          1700.0  1300.0   \n",
       "1  領1萬2三倍券！單親媽遭國二孩討錢回絕竟被嗆「侵占」...網友戰翻 | ETtoday新聞雲           729.0   531.0   \n",
       "2              經濟部認了！3倍券光印製就砸5.4億「多消費券2倍」│TVBS新聞網         12000.0  4800.0   \n",
       "3                   他收三倍券簡訊氣炸 網：唐鳳寫的？ - Yahoo奇摩新聞           920.0   704.0   \n",
       "4                 付1千領3千 人人皆可領！政院砸400億發振興券｜東森財經新聞          2200.0  1600.0   \n",
       "\n",
       "     Haha   Angry   Wow  Love  Sad  Care      fanpage  \n",
       "0   288.0    35.0   0.0     0    0     0      ETtoday  \n",
       "1   114.0     0.0  66.0     0    0     0      ETtoday  \n",
       "2  1700.0  4500.0   0.0     0    0     0       tvbsfb  \n",
       "3   132.0    51.0   0.0     0    0     0  YahooTWNews  \n",
       "4   180.0   371.0   0.0     0    0     0     news.ebc  "
      ]
     },
     "execution_count": 5,
     "metadata": {},
     "output_type": "execute_result"
    }
   ],
   "source": [
    "post_df.head()"
   ]
  },
  {
   "cell_type": "code",
   "execution_count": 6,
   "metadata": {},
   "outputs": [],
   "source": [
    "comment_df = pd.DataFrame()\n",
    "for post in data_list:\n",
    "    post_url = post.get('post_url', None)\n",
    "    comments = post.get('comments', [])\n",
    "    if comments:\n",
    "        comments = [[comment.get('main')]+comment.get('replies',[]) for comment in comments]\n",
    "        comments = list(itertools.chain.from_iterable(comments))\n",
    "        comments = [i.replace(\"Top Fan\\n\",\"\") if i.startswith(\"Top Fan\\n\") else i for i in comments]\n",
    "    post_comment = pd.DataFrame(comments,columns=['comment'])\n",
    "    post_comment['post_url'] = post_url\n",
    "    comment_df = pd.concat([comment_df, post_comment],axis='rows')\n",
    "comment_df['author'] = comment_df['comment'].apply(lambda x:x.split(\"\\n\")[0])\n",
    "comment_df['comment'] = comment_df['comment'].apply(lambda x:\"\\n\".join(x.split(\"\\n\")[1:]))\n",
    "comment_df['reaction_num'] = comment_df['comment'].apply(lambda x:int(x.split(\"\\n\")[-1]) if re.search(\"\\\\n\\d+$\",x) else 0)\n",
    "comment_df['comment'] = comment_df['comment'].apply(lambda x:re.sub(\"\\\\n\\d+\",\"\",x))\n",
    "comment_df.reset_index(inplace=True,drop=True)\n",
    "comment_df = comment_df[['post_url','author','comment','reaction_num']]"
   ]
  },
  {
   "cell_type": "code",
   "execution_count": 7,
   "metadata": {},
   "outputs": [
    {
     "data": {
      "text/html": [
       "<div>\n",
       "<style scoped>\n",
       "    .dataframe tbody tr th:only-of-type {\n",
       "        vertical-align: middle;\n",
       "    }\n",
       "\n",
       "    .dataframe tbody tr th {\n",
       "        vertical-align: top;\n",
       "    }\n",
       "\n",
       "    .dataframe thead th {\n",
       "        text-align: right;\n",
       "    }\n",
       "</style>\n",
       "<table border=\"1\" class=\"dataframe\">\n",
       "  <thead>\n",
       "    <tr style=\"text-align: right;\">\n",
       "      <th></th>\n",
       "      <th>post_url</th>\n",
       "      <th>author</th>\n",
       "      <th>comment</th>\n",
       "      <th>reaction_num</th>\n",
       "    </tr>\n",
       "  </thead>\n",
       "  <tbody>\n",
       "    <tr>\n",
       "      <th>0</th>\n",
       "      <td>https://www.facebook.com/ETtoday/posts/3576468832389255</td>\n",
       "      <td>林皓瑋</td>\n",
       "      <td>昨天我拿到也傻眼 製作的越複雜越多油水可以撈</td>\n",
       "      <td>0</td>\n",
       "    </tr>\n",
       "    <tr>\n",
       "      <th>1</th>\n",
       "      <td>https://www.facebook.com/ETtoday/posts/3576468832389255</td>\n",
       "      <td>Linda Luo</td>\n",
       "      <td>林皓瑋 綁定電子就可以讓政府少撈一點油水哦⋯⋯啊。你拿了紙本嗎</td>\n",
       "      <td>9</td>\n",
       "    </tr>\n",
       "    <tr>\n",
       "      <th>2</th>\n",
       "      <td>https://www.facebook.com/ETtoday/posts/3576468832389255</td>\n",
       "      <td>Jaime Zhou</td>\n",
       "      <td>林皓瑋 總製作量也沒有第三公正單位查核，也不知道總數量多少？嘿嘿…</td>\n",
       "      <td>3</td>\n",
       "    </tr>\n",
       "    <tr>\n",
       "      <th>3</th>\n",
       "      <td>https://www.facebook.com/ETtoday/posts/3576468832389255</td>\n",
       "      <td>百聰林</td>\n",
       "      <td>Jaime Zhou有關係就沒關係 頂多就超用 然後就升官發財 哈哈</td>\n",
       "      <td>1</td>\n",
       "    </tr>\n",
       "    <tr>\n",
       "      <th>4</th>\n",
       "      <td>https://www.facebook.com/ETtoday/posts/3576468832389255</td>\n",
       "      <td>Chien-Hsun Chen</td>\n",
       "      <td>林哲誼 你這邏輯跟明明有發票載具還硬要拿紙本然後靠北不環保</td>\n",
       "      <td>2</td>\n",
       "    </tr>\n",
       "  </tbody>\n",
       "</table>\n",
       "</div>"
      ],
      "text/plain": [
       "                                                  post_url           author  \\\n",
       "0  https://www.facebook.com/ETtoday/posts/3576468832389255              林皓瑋   \n",
       "1  https://www.facebook.com/ETtoday/posts/3576468832389255        Linda Luo   \n",
       "2  https://www.facebook.com/ETtoday/posts/3576468832389255       Jaime Zhou   \n",
       "3  https://www.facebook.com/ETtoday/posts/3576468832389255              百聰林   \n",
       "4  https://www.facebook.com/ETtoday/posts/3576468832389255  Chien-Hsun Chen   \n",
       "\n",
       "                              comment  reaction_num  \n",
       "0              昨天我拿到也傻眼 製作的越複雜越多油水可以撈             0  \n",
       "1     林皓瑋 綁定電子就可以讓政府少撈一點油水哦⋯⋯啊。你拿了紙本嗎             9  \n",
       "2   林皓瑋 總製作量也沒有第三公正單位查核，也不知道總數量多少？嘿嘿…             3  \n",
       "3  Jaime Zhou有關係就沒關係 頂多就超用 然後就升官發財 哈哈             1  \n",
       "4       林哲誼 你這邏輯跟明明有發票載具還硬要拿紙本然後靠北不環保             2  "
      ]
     },
     "execution_count": 7,
     "metadata": {},
     "output_type": "execute_result"
    }
   ],
   "source": [
    "comment_df.head()"
   ]
  },
  {
   "cell_type": "code",
   "execution_count": 8,
   "metadata": {},
   "outputs": [
    {
     "data": {
      "text/plain": [
       "(218134, 4)"
      ]
     },
     "execution_count": 8,
     "metadata": {},
     "output_type": "execute_result"
    }
   ],
   "source": [
    "comment_df.shape"
   ]
  },
  {
   "cell_type": "code",
   "execution_count": null,
   "metadata": {},
   "outputs": [],
   "source": []
  },
  {
   "cell_type": "code",
   "execution_count": 9,
   "metadata": {},
   "outputs": [],
   "source": [
    "posts_picked = pd.read_excel(\"./data/refined/posts_v1.xlsx\", engine='openpyxl')\n",
    "posts_picked = posts_picked[posts_picked['post_url'].isin(exclude_post_links)==False]"
   ]
  },
  {
   "cell_type": "code",
   "execution_count": 10,
   "metadata": {},
   "outputs": [],
   "source": [
    "def phase(x):\n",
    "    if x<pd.to_datetime('2020-01-31'):\n",
    "        return 0\n",
    "    elif x <pd.to_datetime('2020-06-02'):\n",
    "        return 1\n",
    "    elif x<pd.to_datetime('2020-07-15'):\n",
    "        return 2\n",
    "    elif x<pd.to_datetime('2021-01-01'):\n",
    "        return 3"
   ]
  },
  {
   "cell_type": "code",
   "execution_count": null,
   "metadata": {},
   "outputs": [],
   "source": []
  },
  {
   "cell_type": "code",
   "execution_count": 11,
   "metadata": {},
   "outputs": [],
   "source": [
    "posts_picked['post_time'] = pd.to_datetime(posts_picked['post_time'])\n",
    "posts_picked['phase'] = posts_picked['post_time'].apply(phase)"
   ]
  },
  {
   "cell_type": "code",
   "execution_count": 12,
   "metadata": {},
   "outputs": [],
   "source": [
    "comment_df = comment_df[comment_df['post_url'].isin(posts_picked['post_url'].unique())]"
   ]
  },
  {
   "cell_type": "code",
   "execution_count": 13,
   "metadata": {},
   "outputs": [
    {
     "data": {
      "text/plain": [
       "(218122, 4)"
      ]
     },
     "execution_count": 13,
     "metadata": {},
     "output_type": "execute_result"
    }
   ],
   "source": [
    "comment_df.shape"
   ]
  },
  {
   "cell_type": "code",
   "execution_count": 14,
   "metadata": {},
   "outputs": [],
   "source": [
    "# # save to files\n",
    "# post_df.to_csv(\"./data/refined/posts.csv\",index=None)\n",
    "posts_picked.to_csv(\"./data/refined/posts_v1.csv\", index=None)\n",
    "comment_df.to_csv(\"./data/refined/comments.csv\", index=None)"
   ]
  },
  {
   "cell_type": "code",
   "execution_count": null,
   "metadata": {},
   "outputs": [],
   "source": []
  }
 ],
 "metadata": {
  "kernelspec": {
   "display_name": "Python 3",
   "language": "python",
   "name": "python3"
  },
  "language_info": {
   "codemirror_mode": {
    "name": "ipython",
    "version": 3
   },
   "file_extension": ".py",
   "mimetype": "text/x-python",
   "name": "python",
   "nbconvert_exporter": "python",
   "pygments_lexer": "ipython3",
   "version": "3.8.7"
  }
 },
 "nbformat": 4,
 "nbformat_minor": 4
}
