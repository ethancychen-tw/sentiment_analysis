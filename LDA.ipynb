{
 "cells": [
  {
   "cell_type": "code",
   "execution_count": 1,
   "metadata": {},
   "outputs": [
    {
     "name": "stderr",
     "output_type": "stream",
     "text": [
      "/Users/ethancy/fb_crawling/venv/lib/python3.8/site-packages/gensim/similarities/__init__.py:15: UserWarning: The gensim.similarities.levenshtein submodule is disabled, because the optional Levenshtein package <https://pypi.org/project/python-Levenshtein/> is unavailable. Install Levenhstein (e.g. `pip install python-Levenshtein`) to suppress this warning.\n",
      "  warnings.warn(msg)\n"
     ]
    }
   ],
   "source": [
    "from ast import literal_eval\n",
    "import numpy as np\n",
    "import pandas as pd\n",
    "\n",
    "from gensim import corpora\n",
    "from gensim.models import CoherenceModel, LdaMulticore\n",
    "import matplotlib.pyplot as plt\n",
    "import seaborn as sns\n",
    "from pprint import pprint"
   ]
  },
  {
   "cell_type": "code",
   "execution_count": 2,
   "metadata": {},
   "outputs": [],
   "source": [
    "posts = pd.read_csv(\"./data/refined/post_with_seg.csv\")\n",
    "comments_by_author = pd.read_csv(\"./data/refined/comments_by_author_with_seg.csv\")\n",
    "posts['word_list'] = posts['word_list'].apply(literal_eval)\n",
    "comments_by_author['word_list'] = comments_by_author['word_list'].apply(literal_eval)\n",
    "comments_by_author['phase'] = comments_by_author['post_url'].map(posts.set_index('post_url')['phase'])\n",
    "comments_by_author['fanpage'] = comments_by_author['post_url'].map(posts.set_index('post_url')['fanpage'])"
   ]
  },
  {
   "cell_type": "code",
   "execution_count": 3,
   "metadata": {},
   "outputs": [],
   "source": [
    "#選擇斷詞後，文字長度大於1的詞\n",
    "posts['word_list'] = posts['word_list'].apply(lambda x:[i for i in x if len(i)>1 ])\n",
    "comments_by_author['word_list'] = comments_by_author['word_list'].apply(lambda x:[i for i in x if len(i)>1 ])\n"
   ]
  },
  {
   "cell_type": "code",
   "execution_count": null,
   "metadata": {},
   "outputs": [],
   "source": []
  },
  {
   "cell_type": "markdown",
   "metadata": {},
   "source": [
    "# 全期間"
   ]
  },
  {
   "cell_type": "markdown",
   "metadata": {},
   "source": [
    "## 貼文LDA模型"
   ]
  },
  {
   "cell_type": "code",
   "execution_count": 4,
   "metadata": {},
   "outputs": [],
   "source": [
    "# prepare LDA configuration\n",
    "post_id2word = corpora.Dictionary(posts['word_list']) # Create Dictionary\n",
    "post_texts = posts['word_list'] # Create Corpus\n",
    "post_corpus = [post_id2word.doc2bow(post_texts) for post_texts in post_texts] # Term Document Frequency"
   ]
  },
  {
   "cell_type": "code",
   "execution_count": 5,
   "metadata": {},
   "outputs": [
    {
     "name": "stdout",
     "output_type": "stream",
     "text": [
      "[(0,\n",
      "  '0.088*\"三倍券\" + 0.042*\"振興券\" + 0.016*\"振興\" + 0.012*\"懶人包\" + 0.009*\"加碼\" + '\n",
      "  '0.008*\"上路\" + 0.008*\"綁定\" + 0.008*\"預購\" + 0.007*\"優惠\" + 0.007*\"武漢肺炎\"'),\n",
      " (1,\n",
      "  '0.072*\"三倍券\" + 0.018*\"蘇貞昌\" + 0.016*\"消費券\" + 0.016*\"振興\" + 0.015*\"振興券\" + '\n",
      "  '0.010*\"優惠\" + 0.009*\"民眾\" + 0.008*\"超商\" + 0.008*\"行政院\" + 0.007*\"郵局\"'),\n",
      " (2,\n",
      "  '0.048*\"振興券\" + 0.032*\"消費券\" + 0.028*\"三倍券\" + 0.021*\"郵局\" + 0.010*\"振興\" + '\n",
      "  '0.009*\"馬英九\" + 0.008*\"當年\" + 0.008*\"蘇貞昌\" + 0.008*\"發放\" + 0.008*\"經濟\"'),\n",
      " (3,\n",
      "  '0.098*\"三倍券\" + 0.022*\"振興\" + 0.021*\"振興券\" + 0.014*\"消費\" + 0.013*\"使用\" + '\n",
      "  '0.012*\"講座\" + 0.009*\"上路\" + 0.009*\"經濟\" + 0.007*\"現金\" + 0.007*\"消費券\"'),\n",
      " (4,\n",
      "  '0.088*\"三倍券\" + 0.030*\"振興\" + 0.015*\"消費券\" + 0.013*\"振興券\" + 0.011*\"預購\" + '\n",
      "  '0.010*\"政府\" + 0.010*\"消費\" + 0.007*\"蔡英文\" + 0.007*\"經濟\" + 0.006*\"馬英九\"')]\n",
      "CPU times: user 3.54 s, sys: 401 ms, total: 3.94 s\n",
      "Wall time: 9.12 s\n"
     ]
    }
   ],
   "source": [
    "%%time\n",
    "num_topics = 5\n",
    "# Build LDA model\n",
    "post_lda_model = LdaMulticore(corpus=post_corpus,\n",
    "                       id2word=post_id2word,\n",
    "                       iterations=500,\n",
    "                       num_topics=num_topics,\n",
    "                       passes=10)\n",
    "\n",
    "# Print the Keyword in the 5 topics\n",
    "pprint(post_lda_model.print_topics())\n",
    "doc_lda = post_lda_model[post_corpus]"
   ]
  },
  {
   "cell_type": "code",
   "execution_count": null,
   "metadata": {},
   "outputs": [],
   "source": []
  },
  {
   "cell_type": "markdown",
   "metadata": {},
   "source": [
    "### 計算模型複雜性及一致性"
   ]
  },
  {
   "cell_type": "code",
   "execution_count": 6,
   "metadata": {},
   "outputs": [
    {
     "name": "stdout",
     "output_type": "stream",
     "text": [
      "\n",
      "Perplexity:  -7.043931735096418\n",
      "\n",
      "Coherence Score:  -5.5069972037713555\n"
     ]
    }
   ],
   "source": [
    "# Compute Perplexity\n",
    "print('\\nPerplexity: ', post_lda_model.log_perplexity(post_corpus))  # a measure of how good the model is. lower the better.\n",
    "\n",
    "# Compute Coherence Score\n",
    "coherence_model_lda_model = CoherenceModel(model=post_lda_model, texts=posts['word_list'], dictionary=post_id2word, coherence='u_mass')\n",
    "coherence_lda_model = coherence_model_lda_model.get_coherence()\n",
    "print('\\nCoherence Score: ', coherence_lda_model)\n"
   ]
  },
  {
   "cell_type": "code",
   "execution_count": 7,
   "metadata": {},
   "outputs": [
    {
     "data": {
      "text/html": [
       "<div>\n",
       "<style scoped>\n",
       "    .dataframe tbody tr th:only-of-type {\n",
       "        vertical-align: middle;\n",
       "    }\n",
       "\n",
       "    .dataframe tbody tr th {\n",
       "        vertical-align: top;\n",
       "    }\n",
       "\n",
       "    .dataframe thead th {\n",
       "        text-align: right;\n",
       "    }\n",
       "</style>\n",
       "<table border=\"1\" class=\"dataframe\">\n",
       "  <thead>\n",
       "    <tr style=\"text-align: right;\">\n",
       "      <th></th>\n",
       "      <th>post_url</th>\n",
       "      <th>post_time</th>\n",
       "      <th>post_content</th>\n",
       "      <th>link_title</th>\n",
       "      <th>total_reaction</th>\n",
       "      <th>Like</th>\n",
       "      <th>Haha</th>\n",
       "      <th>Angry</th>\n",
       "      <th>Wow</th>\n",
       "      <th>Love</th>\n",
       "      <th>...</th>\n",
       "      <th>sentiment_pos</th>\n",
       "      <th>sentiment_neg</th>\n",
       "      <th>sentiment_score</th>\n",
       "      <th>sentiment_score_filled</th>\n",
       "      <th>most_likely_post_topic</th>\n",
       "      <th>prob_post_topic_0</th>\n",
       "      <th>prob_post_topic_1</th>\n",
       "      <th>prob_post_topic_2</th>\n",
       "      <th>prob_post_topic_3</th>\n",
       "      <th>prob_post_topic_4</th>\n",
       "    </tr>\n",
       "  </thead>\n",
       "  <tbody>\n",
       "    <tr>\n",
       "      <th>0</th>\n",
       "      <td>https://www.facebook.com/YahooTWNews/posts/330...</td>\n",
       "      <td>2020-05-07 00:00:00</td>\n",
       "      <td>因為消費券是馬政府當年的政策，因為發現金是國民黨黨團今日的主張，為了這口氣蔡總統是非常不樂意...</td>\n",
       "      <td>「你搞得我好亂啊」的紓困政策—發現金或消費券有這麼難？</td>\n",
       "      <td>276</td>\n",
       "      <td>177</td>\n",
       "      <td>53</td>\n",
       "      <td>44</td>\n",
       "      <td>0</td>\n",
       "      <td>0</td>\n",
       "      <td>...</td>\n",
       "      <td>0</td>\n",
       "      <td>4</td>\n",
       "      <td>0.0</td>\n",
       "      <td>0.000000</td>\n",
       "      <td>1</td>\n",
       "      <td>0.000000</td>\n",
       "      <td>0.981256</td>\n",
       "      <td>0.000000</td>\n",
       "      <td>0.000000</td>\n",
       "      <td>0.000000</td>\n",
       "    </tr>\n",
       "    <tr>\n",
       "      <th>1</th>\n",
       "      <td>https://www.facebook.com/appledaily.tw/posts/1...</td>\n",
       "      <td>2020-07-01 00:00:00</td>\n",
       "      <td>準備好去台南進行報復性消費了三倍券預購懶人包4大超商今開跑！只限7天送購物金、咖啡半價拉客 ...</td>\n",
       "      <td>三倍券上路最大禮！來台南消費市府灑血本送「600萬附車位公寓」</td>\n",
       "      <td>18</td>\n",
       "      <td>15</td>\n",
       "      <td>3</td>\n",
       "      <td>0</td>\n",
       "      <td>0</td>\n",
       "      <td>0</td>\n",
       "      <td>...</td>\n",
       "      <td>2</td>\n",
       "      <td>0</td>\n",
       "      <td>1.0</td>\n",
       "      <td>1.000000</td>\n",
       "      <td>4</td>\n",
       "      <td>0.000000</td>\n",
       "      <td>0.000000</td>\n",
       "      <td>0.000000</td>\n",
       "      <td>0.000000</td>\n",
       "      <td>0.967617</td>\n",
       "    </tr>\n",
       "    <tr>\n",
       "      <th>2</th>\n",
       "      <td>https://www.facebook.com/news.ebc/posts/435323...</td>\n",
       "      <td>2020-06-01 00:00:00</td>\n",
       "      <td>YA！這次錢真的來了！要領要快 振興券 紓困補助 武漢肺炎</td>\n",
       "      <td>3000元振興券來了！這天起上路 領取方法一次看懂</td>\n",
       "      <td>1400</td>\n",
       "      <td>1100</td>\n",
       "      <td>84</td>\n",
       "      <td>164</td>\n",
       "      <td>0</td>\n",
       "      <td>0</td>\n",
       "      <td>...</td>\n",
       "      <td>0</td>\n",
       "      <td>0</td>\n",
       "      <td>NaN</td>\n",
       "      <td>0.503675</td>\n",
       "      <td>0</td>\n",
       "      <td>0.554061</td>\n",
       "      <td>0.018361</td>\n",
       "      <td>0.390175</td>\n",
       "      <td>0.018734</td>\n",
       "      <td>0.018669</td>\n",
       "    </tr>\n",
       "    <tr>\n",
       "      <th>3</th>\n",
       "      <td>https://www.facebook.com/news.ebc/posts/457278...</td>\n",
       "      <td>2020-06-30 00:00:00</td>\n",
       "      <td>天啊！準備好去搶錢錢了嗎？ 三倍券</td>\n",
       "      <td>3000元三倍券明天來了！怎麼領最賺？方式一次秒懂</td>\n",
       "      <td>978</td>\n",
       "      <td>891</td>\n",
       "      <td>0</td>\n",
       "      <td>45</td>\n",
       "      <td>17</td>\n",
       "      <td>0</td>\n",
       "      <td>...</td>\n",
       "      <td>1</td>\n",
       "      <td>0</td>\n",
       "      <td>1.0</td>\n",
       "      <td>1.000000</td>\n",
       "      <td>3</td>\n",
       "      <td>0.022548</td>\n",
       "      <td>0.022501</td>\n",
       "      <td>0.022578</td>\n",
       "      <td>0.909479</td>\n",
       "      <td>0.022895</td>\n",
       "    </tr>\n",
       "    <tr>\n",
       "      <th>4</th>\n",
       "      <td>https://www.facebook.com/news.ebc/posts/473005...</td>\n",
       "      <td>2020-07-21 00:00:00</td>\n",
       "      <td>天啊！準備好開搶了嗎？ 三倍券 超商</td>\n",
       "      <td>三倍券第二輪明天開搶！4大超商最新優惠一次看</td>\n",
       "      <td>589</td>\n",
       "      <td>569</td>\n",
       "      <td>5</td>\n",
       "      <td>0</td>\n",
       "      <td>0</td>\n",
       "      <td>5</td>\n",
       "      <td>...</td>\n",
       "      <td>1</td>\n",
       "      <td>0</td>\n",
       "      <td>1.0</td>\n",
       "      <td>1.000000</td>\n",
       "      <td>1</td>\n",
       "      <td>0.018527</td>\n",
       "      <td>0.925333</td>\n",
       "      <td>0.018817</td>\n",
       "      <td>0.018505</td>\n",
       "      <td>0.018818</td>\n",
       "    </tr>\n",
       "  </tbody>\n",
       "</table>\n",
       "<p>5 rows × 26 columns</p>\n",
       "</div>"
      ],
      "text/plain": [
       "                                            post_url            post_time  \\\n",
       "0  https://www.facebook.com/YahooTWNews/posts/330...  2020-05-07 00:00:00   \n",
       "1  https://www.facebook.com/appledaily.tw/posts/1...  2020-07-01 00:00:00   \n",
       "2  https://www.facebook.com/news.ebc/posts/435323...  2020-06-01 00:00:00   \n",
       "3  https://www.facebook.com/news.ebc/posts/457278...  2020-06-30 00:00:00   \n",
       "4  https://www.facebook.com/news.ebc/posts/473005...  2020-07-21 00:00:00   \n",
       "\n",
       "                                        post_content  \\\n",
       "0  因為消費券是馬政府當年的政策，因為發現金是國民黨黨團今日的主張，為了這口氣蔡總統是非常不樂意...   \n",
       "1  準備好去台南進行報復性消費了三倍券預購懶人包4大超商今開跑！只限7天送購物金、咖啡半價拉客 ...   \n",
       "2                      YA！這次錢真的來了！要領要快 振興券 紓困補助 武漢肺炎   \n",
       "3                                  天啊！準備好去搶錢錢了嗎？ 三倍券   \n",
       "4                                 天啊！準備好開搶了嗎？ 三倍券 超商   \n",
       "\n",
       "                        link_title  total_reaction  Like  Haha  Angry  Wow  \\\n",
       "0     「你搞得我好亂啊」的紓困政策—發現金或消費券有這麼難？              276   177    53     44    0   \n",
       "1  三倍券上路最大禮！來台南消費市府灑血本送「600萬附車位公寓」              18    15     3      0    0   \n",
       "2        3000元振興券來了！這天起上路 領取方法一次看懂            1400  1100    84    164    0   \n",
       "3        3000元三倍券明天來了！怎麼領最賺？方式一次秒懂             978   891     0     45   17   \n",
       "4           三倍券第二輪明天開搶！4大超商最新優惠一次看             589   569     5      0    0   \n",
       "\n",
       "   Love  ...  sentiment_pos  sentiment_neg sentiment_score  \\\n",
       "0     0  ...              0              4             0.0   \n",
       "1     0  ...              2              0             1.0   \n",
       "2     0  ...              0              0             NaN   \n",
       "3     0  ...              1              0             1.0   \n",
       "4     5  ...              1              0             1.0   \n",
       "\n",
       "   sentiment_score_filled most_likely_post_topic prob_post_topic_0  \\\n",
       "0                0.000000                      1          0.000000   \n",
       "1                1.000000                      4          0.000000   \n",
       "2                0.503675                      0          0.554061   \n",
       "3                1.000000                      3          0.022548   \n",
       "4                1.000000                      1          0.018527   \n",
       "\n",
       "   prob_post_topic_1  prob_post_topic_2  prob_post_topic_3  prob_post_topic_4  \n",
       "0           0.981256           0.000000           0.000000           0.000000  \n",
       "1           0.000000           0.000000           0.000000           0.967617  \n",
       "2           0.018361           0.390175           0.018734           0.018669  \n",
       "3           0.022501           0.022578           0.909479           0.022895  \n",
       "4           0.925333           0.018817           0.018505           0.018818  \n",
       "\n",
       "[5 rows x 26 columns]"
      ]
     },
     "execution_count": 7,
     "metadata": {},
     "output_type": "execute_result"
    }
   ],
   "source": [
    "# 把lda的結果放回去posts 表格中\n",
    "posts['post_topic'] = [i for i in doc_lda]\n",
    "temp = posts[['post_url','post_topic']].set_index('post_url')['post_topic'].explode().reset_index()\n",
    "temp['topic'] = temp['post_topic'].apply(lambda x: x[0])\n",
    "temp['prob'] = temp['post_topic'].apply(lambda x: x[1])\n",
    "temp = temp.set_index(['post_url','topic'])['prob'].unstack(-1).add_prefix('prob_post_topic_').reset_index().fillna(0)\n",
    "\n",
    "posts['most_likely_post_topic'] = posts['post_topic'].apply(lambda x:[j[0] for j in x if j[1] == max([i[1] for i in x])][0])\n",
    "posts = pd.merge(posts, temp, on='post_url').drop('post_topic',axis='columns')\n",
    "posts.head()"
   ]
  },
  {
   "cell_type": "code",
   "execution_count": 8,
   "metadata": {},
   "outputs": [
    {
     "data": {
      "text/plain": [
       "<AxesSubplot:xlabel='most_likely_post_topic', ylabel='sentiment_score_filled'>"
      ]
     },
     "execution_count": 8,
     "metadata": {},
     "output_type": "execute_result"
    },
    {
     "data": {
      "image/png": "[encoded data removed]",
      "text/plain": [
       "<Figure size 720x360 with 1 Axes>"
      ]
     },
     "metadata": {
      "needs_background": "light"
     },
     "output_type": "display_data"
    }
   ],
   "source": [
    "plt.subplots(figsize=(10,5))\n",
    "temp = posts.groupby('most_likely_post_topic')['sentiment_score_filled'].mean().sort_values().reset_index()\n",
    "sns.barplot(x='most_likely_post_topic',y='sentiment_score_filled',data=temp)"
   ]
  },
  {
   "cell_type": "code",
   "execution_count": 9,
   "metadata": {},
   "outputs": [],
   "source": [
    "# fanpage x topic"
   ]
  },
  {
   "cell_type": "code",
   "execution_count": 10,
   "metadata": {},
   "outputs": [
    {
     "data": {
      "image/png": "[encoded data removed]",
      "text/plain": [
       "<Figure size 720x360 with 1 Axes>"
      ]
     },
     "metadata": {
      "needs_background": "light"
     },
     "output_type": "display_data"
    }
   ],
   "source": [
    "plt.subplots(figsize=(10,5))\n",
    "temp = posts.groupby(['fanpage','most_likely_post_topic'])['sentiment_score_filled'].mean().sort_values().reset_index()\n",
    "plot = sns.barplot(x='most_likely_post_topic',y='sentiment_score_filled',hue=\"fanpage\",data=temp)\n",
    "plt.legend(bbox_to_anchor=(1.01, 1), borderaxespad=0)\n",
    "for p in plot.patches:\n",
    "    plot.annotate(format(p.get_height(), '.2f'), \n",
    "                   (p.get_x() + p.get_width() / 2., p.get_height()), \n",
    "                   ha = 'center', va = 'center', \n",
    "                   xytext = (0, 9), \n",
    "                   textcoords = 'offset points')"
   ]
  },
  {
   "cell_type": "markdown",
   "metadata": {},
   "source": [
    "## 回應"
   ]
  },
  {
   "cell_type": "code",
   "execution_count": 11,
   "metadata": {},
   "outputs": [],
   "source": [
    "# make most likely post topic available in comments\n",
    "comments_by_author['most_likely_post_topic'] = comments_by_author['post_url'].map(posts.set_index('post_url')['most_likely_post_topic'])"
   ]
  },
  {
   "cell_type": "code",
   "execution_count": 12,
   "metadata": {},
   "outputs": [],
   "source": [
    "comment_word_threshold = 20 # 最少要在所有留言中出現幾次才納入分析\n",
    "temp = comments_by_author.set_index(['post_url','author'])['word_list'].rename('word_count').explode()\n",
    "val_count = pd.DataFrame(temp.value_counts())\n",
    "val_count['word'] = val_count.index.values\n",
    "val_count = val_count[(val_count['word'].apply(len)>1) & (val_count['word_count']>comment_word_threshold)]"
   ]
  },
  {
   "cell_type": "markdown",
   "metadata": {},
   "source": [
    "### LDA模型: 各主題的貼文底下的留言又可分成幾個主題？"
   ]
  },
  {
   "cell_type": "code",
   "execution_count": 13,
   "metadata": {
    "scrolled": true
   },
   "outputs": [
    {
     "name": "stdout",
     "output_type": "stream",
     "text": [
      "post topic 0\n",
      "30037 comments from 169 posts\n",
      "[(0,\n",
      "  '0.013*\"政府\" + 0.010*\"消費\" + 0.010*\"小孩\" + 0.007*\"人民\" + 0.006*\"振興\" + 0.006*\"現金\" '\n",
      "  '+ 0.006*\"政策\" + 0.005*\"直接\" + 0.005*\"出來\" + 0.005*\"民進黨\"'),\n",
      " (1,\n",
      "  '0.018*\"政府\" + 0.017*\"振興\" + 0.009*\"人民\" + 0.008*\"經濟\" + 0.008*\"現金\" + 0.007*\"消費\" '\n",
      "  '+ 0.007*\"現在\" + 0.007*\"振興券\" + 0.006*\"台灣\" + 0.006*\"發現金\"'),\n",
      " (2,\n",
      "  '0.014*\"政府\" + 0.009*\"振興\" + 0.008*\"直接\" + 0.007*\"台灣\" + 0.007*\"麻煩\" + 0.006*\"知道\" '\n",
      "  '+ 0.006*\"現在\" + 0.005*\"小孩\" + 0.004*\"使用\" + 0.004*\"民進黨\"')]\n",
      "post topic 1\n",
      "23343 comments from 102 posts\n",
      "[(0,\n",
      "  '0.009*\"現金\" + 0.008*\"消費\" + 0.008*\"人民\" + 0.008*\"振興\" + 0.007*\"直接\" + 0.007*\"三倍\" '\n",
      "  '+ 0.006*\"政府\" + 0.006*\"台灣\" + 0.005*\"現在\" + 0.005*\"民進黨\"'),\n",
      " (1,\n",
      "  '0.015*\"政府\" + 0.009*\"消費\" + 0.008*\"台灣\" + 0.008*\"郵局\" + 0.008*\"振興\" + 0.008*\"排隊\" '\n",
      "  '+ 0.007*\"經濟\" + 0.006*\"現在\" + 0.006*\"麻煩\" + 0.005*\"直接\"'),\n",
      " (2,\n",
      "  '0.025*\"政府\" + 0.014*\"振興\" + 0.009*\"人民\" + 0.009*\"排隊\" + 0.008*\"政策\" + 0.006*\"現在\" '\n",
      "  '+ 0.005*\"振興券\" + 0.005*\"問題\" + 0.005*\"紓困\" + 0.005*\"消費券\"')]\n",
      "post topic 2\n",
      "29736 comments from 93 posts\n",
      "[(0,\n",
      "  '0.012*\"政府\" + 0.012*\"直接\" + 0.011*\"經濟\" + 0.011*\"台灣\" + 0.010*\"振興\" + 0.010*\"現在\" '\n",
      "  '+ 0.009*\"消費卷\" + 0.008*\"政策\" + 0.007*\"民進黨\" + 0.007*\"消費券\"'),\n",
      " (1,\n",
      "  '0.024*\"振興\" + 0.016*\"人民\" + 0.012*\"政府\" + 0.010*\"消費券\" + 0.009*\"紓困\" + '\n",
      "  '0.009*\"現金\" + 0.007*\"消費\" + 0.007*\"經濟\" + 0.007*\"消費卷\" + 0.006*\"民進黨\"'),\n",
      " (2,\n",
      "  '0.027*\"政府\" + 0.012*\"消費\" + 0.011*\"直接\" + 0.011*\"現金\" + 0.011*\"人民\" + '\n",
      "  '0.009*\"振興券\" + 0.007*\"發現金\" + 0.007*\"消費券\" + 0.006*\"馬英九\" + 0.005*\"消費卷\"')]\n",
      "post topic 3\n",
      "36119 comments from 142 posts\n",
      "[(0,\n",
      "  '0.011*\"小孩\" + 0.009*\"政府\" + 0.007*\"台灣\" + 0.007*\"直接\" + 0.006*\"振興\" + 0.006*\"知道\" '\n",
      "  '+ 0.005*\"現金\" + 0.005*\"振興券\" + 0.005*\"經濟\" + 0.005*\"問題\"'),\n",
      " (1,\n",
      "  '0.019*\"政府\" + 0.013*\"振興\" + 0.011*\"人民\" + 0.010*\"消費\" + 0.007*\"消費券\" + '\n",
      "  '0.006*\"政策\" + 0.006*\"現金\" + 0.005*\"經濟\" + 0.005*\"台灣\" + 0.005*\"民進黨\"'),\n",
      " (2,\n",
      "  '0.017*\"政府\" + 0.011*\"振興\" + 0.010*\"人民\" + 0.009*\"現在\" + 0.009*\"現金\" + 0.008*\"台灣\" '\n",
      "  '+ 0.007*\"發現金\" + 0.006*\"民進黨\" + 0.006*\"三倍\" + 0.004*\"直接\"')]\n",
      "post topic 4\n",
      "29506 comments from 138 posts\n",
      "[(0,\n",
      "  '0.016*\"政府\" + 0.013*\"人民\" + 0.007*\"政策\" + 0.007*\"台灣\" + 0.006*\"現在\" + 0.006*\"紓困\" '\n",
      "  '+ 0.006*\"民進黨\" + 0.005*\"消費券\" + 0.005*\"經濟\" + 0.005*\"消費卷\"'),\n",
      " (1,\n",
      "  '0.012*\"現金\" + 0.011*\"人民\" + 0.010*\"台灣\" + 0.009*\"政府\" + 0.008*\"振興\" + 0.008*\"現在\" '\n",
      "  '+ 0.006*\"振興券\" + 0.006*\"民進黨\" + 0.005*\"三倍\" + 0.005*\"消費券\"'),\n",
      " (2,\n",
      "  '0.022*\"政府\" + 0.017*\"振興\" + 0.012*\"消費\" + 0.008*\"知道\" + 0.007*\"經濟\" + '\n",
      "  '0.006*\"消費券\" + 0.006*\"直接\" + 0.005*\"三倍券\" + 0.005*\"發現金\" + 0.004*\"人民\"')]\n",
      "CPU times: user 16.4 s, sys: 2.78 s, total: 19.2 s\n",
      "Wall time: 54.9 s\n"
     ]
    }
   ],
   "source": [
    "%%time\n",
    "for post_topic in range(num_topics):\n",
    "    print(f\"post topic {post_topic}\")\n",
    "    post_topic_post_comments = comments_by_author[comments_by_author['most_likely_post_topic']==post_topic]\n",
    "    \n",
    "    print(f\"{len(post_topic_post_comments)} comments from {post_topic_post_comments['post_url'].nunique()} posts\" )\n",
    "    \n",
    "    comment_id2word = corpora.Dictionary(post_topic_post_comments['word_list'])\n",
    "    comment_texts = post_topic_post_comments['word_list'] # Create Corpus\n",
    "    comment_corpus = [comment_id2word.doc2bow(text) for text in comment_texts]# Term Document Frequency\n",
    "    comment_lda_model = LdaMulticore(corpus=comment_corpus, id2word=comment_id2word, num_topics=3)\n",
    "    # Print the Keyword in the 10 topics\n",
    "    pprint(comment_lda_model.print_topics())\n",
    "    doc_lda = comment_lda_model[comment_corpus]\n"
   ]
  },
  {
   "cell_type": "markdown",
   "metadata": {},
   "source": [
    "### LDA模型: 所有的留言下去分主題"
   ]
  },
  {
   "cell_type": "code",
   "execution_count": 14,
   "metadata": {},
   "outputs": [
    {
     "name": "stdout",
     "output_type": "stream",
     "text": [
      "[(0, '0.034*\"振興\" + 0.031*\"政府\" + 0.019*\"現金\"'),\n",
      " (1, '0.018*\"政府\" + 0.014*\"小孩\" + 0.010*\"振興\"'),\n",
      " (2, '0.013*\"人民\" + 0.010*\"排隊\" + 0.010*\"政府\"'),\n",
      " (3, '0.018*\"政府\" + 0.015*\"民進黨\" + 0.012*\"消費\"'),\n",
      " (4, '0.019*\"消費券\" + 0.017*\"直接\" + 0.012*\"政府\"')]\n",
      "CPU times: user 9.01 s, sys: 1.95 s, total: 11 s\n",
      "Wall time: 20 s\n"
     ]
    }
   ],
   "source": [
    "%%time\n",
    "num_topics=5\n",
    "comment_id2word = corpora.Dictionary(comments_by_author['word_list'])\n",
    "comment_texts = comments_by_author['word_list'] # Create Corpus\n",
    "comment_corpus = [comment_id2word.doc2bow(text) for text in comment_texts]# Term Document Frequency\n",
    "comment_lda_model = LdaMulticore(corpus=comment_corpus, id2word=comment_id2word, num_topics=num_topics)\n",
    "pprint(comment_lda_model.print_topics(num_words=3))\n",
    "doc_lda = comment_lda_model[comment_corpus]"
   ]
  },
  {
   "cell_type": "code",
   "execution_count": null,
   "metadata": {},
   "outputs": [],
   "source": []
  },
  {
   "cell_type": "code",
   "execution_count": 15,
   "metadata": {},
   "outputs": [
    {
     "data": {
      "text/html": [
       "<div>\n",
       "<style scoped>\n",
       "    .dataframe tbody tr th:only-of-type {\n",
       "        vertical-align: middle;\n",
       "    }\n",
       "\n",
       "    .dataframe tbody tr th {\n",
       "        vertical-align: top;\n",
       "    }\n",
       "\n",
       "    .dataframe thead th {\n",
       "        text-align: right;\n",
       "    }\n",
       "</style>\n",
       "<table border=\"1\" class=\"dataframe\">\n",
       "  <thead>\n",
       "    <tr style=\"text-align: right;\">\n",
       "      <th></th>\n",
       "      <th>post_url</th>\n",
       "      <th>author</th>\n",
       "      <th>comment</th>\n",
       "      <th>comment_no_ppl_tag</th>\n",
       "      <th>word_list</th>\n",
       "      <th>sentiment_pos</th>\n",
       "      <th>sentiment_neg</th>\n",
       "      <th>sentiment_score</th>\n",
       "      <th>sentiment_score_filled</th>\n",
       "      <th>phase</th>\n",
       "      <th>fanpage</th>\n",
       "      <th>most_likely_post_topic</th>\n",
       "    </tr>\n",
       "  </thead>\n",
       "  <tbody>\n",
       "    <tr>\n",
       "      <th>0</th>\n",
       "      <td>https://www.facebook.com/ETtoday/posts/3150078...</td>\n",
       "      <td>Angel Lee</td>\n",
       "      <td>現在不促進觀光時候全民自主管理最安全先把那個錢省下來防疫工作不知道何時才會停止還有隔離醫療先...</td>\n",
       "      <td>現在不促進觀光時候全民自主管理最安全先把那個錢省下來防疫工作不知道何時才會停止還有隔離醫療先...</td>\n",
       "      <td>[現在, 促進, 觀光, 時候, 全民, 自主, 管理, 安全, 省下來, 防疫, 工作, ...</td>\n",
       "      <td>11</td>\n",
       "      <td>9</td>\n",
       "      <td>0.550000</td>\n",
       "      <td>0.550000</td>\n",
       "      <td>1</td>\n",
       "      <td>ETtoday</td>\n",
       "      <td>2</td>\n",
       "    </tr>\n",
       "    <tr>\n",
       "      <th>1</th>\n",
       "      <td>https://www.facebook.com/ETtoday/posts/3150078...</td>\n",
       "      <td>Barry Shin</td>\n",
       "      <td>對於疫情處理好壞看看周圍亞洲各國你應該慶幸在台灣這篇留言串不知道什麼吊出很多群情激憤網民看起...</td>\n",
       "      <td>對於疫情處理好壞看看周圍亞洲各國你應該慶幸在台灣這篇留言串不知道什麼吊出很多群情激憤網民看起...</td>\n",
       "      <td>[疫情, 處理, 好壞, 看看, 周圍, 亞洲, 慶幸, 台灣, 留言串, 吊出, 群情激憤...</td>\n",
       "      <td>5</td>\n",
       "      <td>9</td>\n",
       "      <td>0.357143</td>\n",
       "      <td>0.357143</td>\n",
       "      <td>1</td>\n",
       "      <td>ETtoday</td>\n",
       "      <td>2</td>\n",
       "    </tr>\n",
       "    <tr>\n",
       "      <th>2</th>\n",
       "      <td>https://www.facebook.com/ETtoday/posts/3150078...</td>\n",
       "      <td>Bau Bear</td>\n",
       "      <td>好事把消費留在國內</td>\n",
       "      <td>好事把消費留在國內</td>\n",
       "      <td>[好事, 消費, 留在, 國內]</td>\n",
       "      <td>2</td>\n",
       "      <td>1</td>\n",
       "      <td>0.666667</td>\n",
       "      <td>0.666667</td>\n",
       "      <td>1</td>\n",
       "      <td>ETtoday</td>\n",
       "      <td>2</td>\n",
       "    </tr>\n",
       "    <tr>\n",
       "      <th>3</th>\n",
       "      <td>https://www.facebook.com/ETtoday/posts/3150078...</td>\n",
       "      <td>Benny Hsieh</td>\n",
       "      <td>賴宥蓁不然呢哪個建設和政策不花人民錢很正常</td>\n",
       "      <td>不然呢哪個建設和政策不花人民錢很正常</td>\n",
       "      <td>[建設, 政策, 人民, 正常]</td>\n",
       "      <td>2</td>\n",
       "      <td>0</td>\n",
       "      <td>1.000000</td>\n",
       "      <td>1.000000</td>\n",
       "      <td>1</td>\n",
       "      <td>ETtoday</td>\n",
       "      <td>2</td>\n",
       "    </tr>\n",
       "    <tr>\n",
       "      <th>4</th>\n",
       "      <td>https://www.facebook.com/ETtoday/posts/3150078...</td>\n",
       "      <td>Bling Bling Lin</td>\n",
       "      <td>花菲菲撐過215國內觀光就不怕</td>\n",
       "      <td>花菲菲撐過215國內觀光就不怕</td>\n",
       "      <td>[花菲菲, 國內, 觀光]</td>\n",
       "      <td>0</td>\n",
       "      <td>0</td>\n",
       "      <td>NaN</td>\n",
       "      <td>0.500000</td>\n",
       "      <td>1</td>\n",
       "      <td>ETtoday</td>\n",
       "      <td>2</td>\n",
       "    </tr>\n",
       "  </tbody>\n",
       "</table>\n",
       "</div>"
      ],
      "text/plain": [
       "                                            post_url           author  \\\n",
       "0  https://www.facebook.com/ETtoday/posts/3150078...        Angel Lee   \n",
       "1  https://www.facebook.com/ETtoday/posts/3150078...       Barry Shin   \n",
       "2  https://www.facebook.com/ETtoday/posts/3150078...         Bau Bear   \n",
       "3  https://www.facebook.com/ETtoday/posts/3150078...      Benny Hsieh   \n",
       "4  https://www.facebook.com/ETtoday/posts/3150078...  Bling Bling Lin   \n",
       "\n",
       "                                             comment  \\\n",
       "0  現在不促進觀光時候全民自主管理最安全先把那個錢省下來防疫工作不知道何時才會停止還有隔離醫療先...   \n",
       "1  對於疫情處理好壞看看周圍亞洲各國你應該慶幸在台灣這篇留言串不知道什麼吊出很多群情激憤網民看起...   \n",
       "2                                          好事把消費留在國內   \n",
       "3                              賴宥蓁不然呢哪個建設和政策不花人民錢很正常   \n",
       "4                                    花菲菲撐過215國內觀光就不怕   \n",
       "\n",
       "                                  comment_no_ppl_tag  \\\n",
       "0  現在不促進觀光時候全民自主管理最安全先把那個錢省下來防疫工作不知道何時才會停止還有隔離醫療先...   \n",
       "1  對於疫情處理好壞看看周圍亞洲各國你應該慶幸在台灣這篇留言串不知道什麼吊出很多群情激憤網民看起...   \n",
       "2                                          好事把消費留在國內   \n",
       "3                                 不然呢哪個建設和政策不花人民錢很正常   \n",
       "4                                    花菲菲撐過215國內觀光就不怕   \n",
       "\n",
       "                                           word_list  sentiment_pos  \\\n",
       "0  [現在, 促進, 觀光, 時候, 全民, 自主, 管理, 安全, 省下來, 防疫, 工作, ...             11   \n",
       "1  [疫情, 處理, 好壞, 看看, 周圍, 亞洲, 慶幸, 台灣, 留言串, 吊出, 群情激憤...              5   \n",
       "2                                   [好事, 消費, 留在, 國內]              2   \n",
       "3                                   [建設, 政策, 人民, 正常]              2   \n",
       "4                                      [花菲菲, 國內, 觀光]              0   \n",
       "\n",
       "   sentiment_neg  sentiment_score  sentiment_score_filled  phase  fanpage  \\\n",
       "0              9         0.550000                0.550000      1  ETtoday   \n",
       "1              9         0.357143                0.357143      1  ETtoday   \n",
       "2              1         0.666667                0.666667      1  ETtoday   \n",
       "3              0         1.000000                1.000000      1  ETtoday   \n",
       "4              0              NaN                0.500000      1  ETtoday   \n",
       "\n",
       "   most_likely_post_topic  \n",
       "0                       2  \n",
       "1                       2  \n",
       "2                       2  \n",
       "3                       2  \n",
       "4                       2  "
      ]
     },
     "execution_count": 15,
     "metadata": {},
     "output_type": "execute_result"
    }
   ],
   "source": [
    "comments_by_author.head()"
   ]
  },
  {
   "cell_type": "code",
   "execution_count": 16,
   "metadata": {},
   "outputs": [
    {
     "data": {
      "text/plain": [
       "post_url                                                 author   \n",
       "https://www.facebook.com/ETtoday/posts/3150078968361579  Angel Lee      現在\n",
       "                                                         Angel Lee      促進\n",
       "                                                         Angel Lee      觀光\n",
       "                                                         Angel Lee      時候\n",
       "                                                         Angel Lee      全民\n",
       "                                                                      ... \n",
       "https://www.facebook.com/tvbsfb/posts/10157838344370933  黃瑋如            外交\n",
       "                                                         黃瑋如            官員\n",
       "                                                         黃瑋如            收入\n",
       "                                                         黃瑋如          錦上添花\n",
       "                                                         黃祥家            可惡\n",
       "Name: word_count, Length: 1052523, dtype: object"
      ]
     },
     "execution_count": 16,
     "metadata": {},
     "output_type": "execute_result"
    }
   ],
   "source": [
    "temp"
   ]
  },
  {
   "cell_type": "code",
   "execution_count": null,
   "metadata": {},
   "outputs": [],
   "source": []
  },
  {
   "cell_type": "code",
   "execution_count": null,
   "metadata": {},
   "outputs": [],
   "source": []
  },
  {
   "cell_type": "code",
   "execution_count": 17,
   "metadata": {},
   "outputs": [
    {
     "data": {
      "text/html": [
       "<div>\n",
       "<style scoped>\n",
       "    .dataframe tbody tr th:only-of-type {\n",
       "        vertical-align: middle;\n",
       "    }\n",
       "\n",
       "    .dataframe tbody tr th {\n",
       "        vertical-align: top;\n",
       "    }\n",
       "\n",
       "    .dataframe thead th {\n",
       "        text-align: right;\n",
       "    }\n",
       "</style>\n",
       "<table border=\"1\" class=\"dataframe\">\n",
       "  <thead>\n",
       "    <tr style=\"text-align: right;\">\n",
       "      <th></th>\n",
       "      <th>post_url</th>\n",
       "      <th>author</th>\n",
       "      <th>comment</th>\n",
       "      <th>comment_no_ppl_tag</th>\n",
       "      <th>word_list</th>\n",
       "      <th>sentiment_pos</th>\n",
       "      <th>sentiment_neg</th>\n",
       "      <th>sentiment_score</th>\n",
       "      <th>sentiment_score_filled</th>\n",
       "      <th>phase</th>\n",
       "      <th>fanpage</th>\n",
       "      <th>most_likely_post_topic</th>\n",
       "      <th>most_likely_comment_topic</th>\n",
       "      <th>prob_comment_topic_0</th>\n",
       "      <th>prob_comment_topic_1</th>\n",
       "      <th>prob_comment_topic_2</th>\n",
       "      <th>prob_comment_topic_3</th>\n",
       "      <th>prob_comment_topic_4</th>\n",
       "    </tr>\n",
       "  </thead>\n",
       "  <tbody>\n",
       "    <tr>\n",
       "      <th>0</th>\n",
       "      <td>https://www.facebook.com/ETtoday/posts/3150078...</td>\n",
       "      <td>Angel Lee</td>\n",
       "      <td>現在不促進觀光時候全民自主管理最安全先把那個錢省下來防疫工作不知道何時才會停止還有隔離醫療先...</td>\n",
       "      <td>現在不促進觀光時候全民自主管理最安全先把那個錢省下來防疫工作不知道何時才會停止還有隔離醫療先...</td>\n",
       "      <td>[現在, 促進, 觀光, 時候, 全民, 自主, 管理, 安全, 省下來, 防疫, 工作, ...</td>\n",
       "      <td>11</td>\n",
       "      <td>9</td>\n",
       "      <td>0.550000</td>\n",
       "      <td>0.550000</td>\n",
       "      <td>1</td>\n",
       "      <td>ETtoday</td>\n",
       "      <td>2</td>\n",
       "      <td>0</td>\n",
       "      <td>0.593829</td>\n",
       "      <td>0.389586</td>\n",
       "      <td>0.000000</td>\n",
       "      <td>0.000000</td>\n",
       "      <td>0.000000</td>\n",
       "    </tr>\n",
       "    <tr>\n",
       "      <th>1</th>\n",
       "      <td>https://www.facebook.com/ETtoday/posts/3150078...</td>\n",
       "      <td>Barry Shin</td>\n",
       "      <td>對於疫情處理好壞看看周圍亞洲各國你應該慶幸在台灣這篇留言串不知道什麼吊出很多群情激憤網民看起...</td>\n",
       "      <td>對於疫情處理好壞看看周圍亞洲各國你應該慶幸在台灣這篇留言串不知道什麼吊出很多群情激憤網民看起...</td>\n",
       "      <td>[疫情, 處理, 好壞, 看看, 周圍, 亞洲, 慶幸, 台灣, 留言串, 吊出, 群情激憤...</td>\n",
       "      <td>5</td>\n",
       "      <td>9</td>\n",
       "      <td>0.357143</td>\n",
       "      <td>0.357143</td>\n",
       "      <td>1</td>\n",
       "      <td>ETtoday</td>\n",
       "      <td>2</td>\n",
       "      <td>4</td>\n",
       "      <td>0.000000</td>\n",
       "      <td>0.000000</td>\n",
       "      <td>0.000000</td>\n",
       "      <td>0.000000</td>\n",
       "      <td>0.962521</td>\n",
       "    </tr>\n",
       "    <tr>\n",
       "      <th>2</th>\n",
       "      <td>https://www.facebook.com/ETtoday/posts/3150078...</td>\n",
       "      <td>Bau Bear</td>\n",
       "      <td>好事把消費留在國內</td>\n",
       "      <td>好事把消費留在國內</td>\n",
       "      <td>[好事, 消費, 留在, 國內]</td>\n",
       "      <td>2</td>\n",
       "      <td>1</td>\n",
       "      <td>0.666667</td>\n",
       "      <td>0.666667</td>\n",
       "      <td>1</td>\n",
       "      <td>ETtoday</td>\n",
       "      <td>2</td>\n",
       "      <td>0</td>\n",
       "      <td>0.662968</td>\n",
       "      <td>0.040676</td>\n",
       "      <td>0.040257</td>\n",
       "      <td>0.040601</td>\n",
       "      <td>0.215499</td>\n",
       "    </tr>\n",
       "    <tr>\n",
       "      <th>3</th>\n",
       "      <td>https://www.facebook.com/ETtoday/posts/3150078...</td>\n",
       "      <td>Benny Hsieh</td>\n",
       "      <td>賴宥蓁不然呢哪個建設和政策不花人民錢很正常</td>\n",
       "      <td>不然呢哪個建設和政策不花人民錢很正常</td>\n",
       "      <td>[建設, 政策, 人民, 正常]</td>\n",
       "      <td>2</td>\n",
       "      <td>0</td>\n",
       "      <td>1.000000</td>\n",
       "      <td>1.000000</td>\n",
       "      <td>1</td>\n",
       "      <td>ETtoday</td>\n",
       "      <td>2</td>\n",
       "      <td>3</td>\n",
       "      <td>0.041062</td>\n",
       "      <td>0.040918</td>\n",
       "      <td>0.041360</td>\n",
       "      <td>0.836038</td>\n",
       "      <td>0.040620</td>\n",
       "    </tr>\n",
       "    <tr>\n",
       "      <th>4</th>\n",
       "      <td>https://www.facebook.com/ETtoday/posts/3150078...</td>\n",
       "      <td>Bling Bling Lin</td>\n",
       "      <td>花菲菲撐過215國內觀光就不怕</td>\n",
       "      <td>花菲菲撐過215國內觀光就不怕</td>\n",
       "      <td>[花菲菲, 國內, 觀光]</td>\n",
       "      <td>0</td>\n",
       "      <td>0</td>\n",
       "      <td>NaN</td>\n",
       "      <td>0.500000</td>\n",
       "      <td>1</td>\n",
       "      <td>ETtoday</td>\n",
       "      <td>2</td>\n",
       "      <td>4</td>\n",
       "      <td>0.053135</td>\n",
       "      <td>0.051856</td>\n",
       "      <td>0.050255</td>\n",
       "      <td>0.050467</td>\n",
       "      <td>0.794288</td>\n",
       "    </tr>\n",
       "  </tbody>\n",
       "</table>\n",
       "</div>"
      ],
      "text/plain": [
       "                                            post_url           author  \\\n",
       "0  https://www.facebook.com/ETtoday/posts/3150078...        Angel Lee   \n",
       "1  https://www.facebook.com/ETtoday/posts/3150078...       Barry Shin   \n",
       "2  https://www.facebook.com/ETtoday/posts/3150078...         Bau Bear   \n",
       "3  https://www.facebook.com/ETtoday/posts/3150078...      Benny Hsieh   \n",
       "4  https://www.facebook.com/ETtoday/posts/3150078...  Bling Bling Lin   \n",
       "\n",
       "                                             comment  \\\n",
       "0  現在不促進觀光時候全民自主管理最安全先把那個錢省下來防疫工作不知道何時才會停止還有隔離醫療先...   \n",
       "1  對於疫情處理好壞看看周圍亞洲各國你應該慶幸在台灣這篇留言串不知道什麼吊出很多群情激憤網民看起...   \n",
       "2                                          好事把消費留在國內   \n",
       "3                              賴宥蓁不然呢哪個建設和政策不花人民錢很正常   \n",
       "4                                    花菲菲撐過215國內觀光就不怕   \n",
       "\n",
       "                                  comment_no_ppl_tag  \\\n",
       "0  現在不促進觀光時候全民自主管理最安全先把那個錢省下來防疫工作不知道何時才會停止還有隔離醫療先...   \n",
       "1  對於疫情處理好壞看看周圍亞洲各國你應該慶幸在台灣這篇留言串不知道什麼吊出很多群情激憤網民看起...   \n",
       "2                                          好事把消費留在國內   \n",
       "3                                 不然呢哪個建設和政策不花人民錢很正常   \n",
       "4                                    花菲菲撐過215國內觀光就不怕   \n",
       "\n",
       "                                           word_list  sentiment_pos  \\\n",
       "0  [現在, 促進, 觀光, 時候, 全民, 自主, 管理, 安全, 省下來, 防疫, 工作, ...             11   \n",
       "1  [疫情, 處理, 好壞, 看看, 周圍, 亞洲, 慶幸, 台灣, 留言串, 吊出, 群情激憤...              5   \n",
       "2                                   [好事, 消費, 留在, 國內]              2   \n",
       "3                                   [建設, 政策, 人民, 正常]              2   \n",
       "4                                      [花菲菲, 國內, 觀光]              0   \n",
       "\n",
       "   sentiment_neg  sentiment_score  sentiment_score_filled  phase  fanpage  \\\n",
       "0              9         0.550000                0.550000      1  ETtoday   \n",
       "1              9         0.357143                0.357143      1  ETtoday   \n",
       "2              1         0.666667                0.666667      1  ETtoday   \n",
       "3              0         1.000000                1.000000      1  ETtoday   \n",
       "4              0              NaN                0.500000      1  ETtoday   \n",
       "\n",
       "   most_likely_post_topic  most_likely_comment_topic  prob_comment_topic_0  \\\n",
       "0                       2                          0              0.593829   \n",
       "1                       2                          4              0.000000   \n",
       "2                       2                          0              0.662968   \n",
       "3                       2                          3              0.041062   \n",
       "4                       2                          4              0.053135   \n",
       "\n",
       "   prob_comment_topic_1  prob_comment_topic_2  prob_comment_topic_3  \\\n",
       "0              0.389586              0.000000              0.000000   \n",
       "1              0.000000              0.000000              0.000000   \n",
       "2              0.040676              0.040257              0.040601   \n",
       "3              0.040918              0.041360              0.836038   \n",
       "4              0.051856              0.050255              0.050467   \n",
       "\n",
       "   prob_comment_topic_4  \n",
       "0              0.000000  \n",
       "1              0.962521  \n",
       "2              0.215499  \n",
       "3              0.040620  \n",
       "4              0.794288  "
      ]
     },
     "execution_count": 17,
     "metadata": {},
     "output_type": "execute_result"
    }
   ],
   "source": [
    "# 把lda的結果放回去posts 表格中\n",
    "comments_by_author['comment_topic'] = [i for i in doc_lda]\n",
    "temp = comments_by_author[['post_url','author','comment_topic']].set_index(['post_url','author'])['comment_topic'].explode().reset_index()\n",
    "temp['topic'] = temp['comment_topic'].apply(lambda x: x[0])\n",
    "temp['prob'] = temp['comment_topic'].apply(lambda x: x[1])\n",
    "temp = temp.set_index(['post_url','author','topic'])['prob'].unstack(-1).add_prefix('prob_comment_topic_').reset_index().fillna(0)\n",
    "\n",
    "comments_by_author['most_likely_comment_topic'] = comments_by_author['comment_topic'].apply(lambda x:[j[0] for j in x if j[1] == max([i[1] for i in x])][0])\n",
    "comments_by_author = pd.merge(comments_by_author, temp, on=['post_url','author']).drop('comment_topic',axis='columns')\n",
    "comments_by_author.head()\n"
   ]
  },
  {
   "cell_type": "code",
   "execution_count": 18,
   "metadata": {},
   "outputs": [
    {
     "data": {
      "text/plain": [
       "<AxesSubplot:xlabel='most_likely_post_topic', ylabel='sentiment_score_filled'>"
      ]
     },
     "execution_count": 18,
     "metadata": {},
     "output_type": "execute_result"
    },
    {
     "data": {
      "image/png": "[encoded data removed]",
      "text/plain": [
       "<Figure size 720x360 with 1 Axes>"
      ]
     },
     "metadata": {
      "needs_background": "light"
     },
     "output_type": "display_data"
    }
   ],
   "source": [
    "# by post topic\n",
    "plt.subplots(figsize=(10,5))\n",
    "temp = comments_by_author.groupby('most_likely_post_topic')['sentiment_score_filled'].mean().sort_values().reset_index()\n",
    "sns.barplot(x='most_likely_post_topic',y='sentiment_score_filled',data=temp)"
   ]
  },
  {
   "cell_type": "code",
   "execution_count": 19,
   "metadata": {},
   "outputs": [
    {
     "data": {
      "text/plain": [
       "<AxesSubplot:xlabel='most_likely_comment_topic', ylabel='sentiment_score_filled'>"
      ]
     },
     "execution_count": 19,
     "metadata": {},
     "output_type": "execute_result"
    },
    {
     "data": {
      "image/png": "[encoded data removed]",
      "text/plain": [
       "<Figure size 720x360 with 1 Axes>"
      ]
     },
     "metadata": {
      "needs_background": "light"
     },
     "output_type": "display_data"
    }
   ],
   "source": [
    "# by comment topic\n",
    "plt.subplots(figsize=(10,5))\n",
    "temp = comments_by_author.groupby('most_likely_comment_topic')['sentiment_score_filled'].mean().sort_values().reset_index()\n",
    "sns.barplot(x='most_likely_comment_topic',y='sentiment_score_filled',data=temp)"
   ]
  },
  {
   "cell_type": "code",
   "execution_count": 20,
   "metadata": {},
   "outputs": [
    {
     "data": {
      "image/png": "[encoded data removed]",
      "text/plain": [
       "<Figure size 720x360 with 1 Axes>"
      ]
     },
     "metadata": {
      "needs_background": "light"
     },
     "output_type": "display_data"
    }
   ],
   "source": [
    "# by fanpage x post topic\n",
    "plt.subplots(figsize=(10,5))\n",
    "temp = comments_by_author.groupby(['fanpage','most_likely_post_topic'])['sentiment_score_filled'].mean().sort_values().reset_index()\n",
    "plot = sns.barplot(x='most_likely_post_topic',y='sentiment_score_filled',hue=\"fanpage\",data=temp)\n",
    "plt.legend(bbox_to_anchor=(1.01, 1), borderaxespad=0)\n",
    "for p in plot.patches:\n",
    "    plot.annotate(format(p.get_height(), '.2f'), \n",
    "                   (p.get_x() + p.get_width() / 2., p.get_height()), \n",
    "                   ha = 'center', va = 'center', \n",
    "                   xytext = (0, 9), \n",
    "                   textcoords = 'offset points')"
   ]
  },
  {
   "cell_type": "code",
   "execution_count": 21,
   "metadata": {},
   "outputs": [
    {
     "data": {
      "image/png": "[encoded data removed]",
      "text/plain": [
       "<Figure size 720x360 with 1 Axes>"
      ]
     },
     "metadata": {
      "needs_background": "light"
     },
     "output_type": "display_data"
    }
   ],
   "source": [
    "# by fanpage x comment topic\n",
    "plt.subplots(figsize=(10,5))\n",
    "temp = comments_by_author.groupby(['fanpage','most_likely_comment_topic'])['sentiment_score_filled'].mean().sort_values().reset_index()\n",
    "plot = sns.barplot(x='most_likely_comment_topic',y='sentiment_score_filled',hue=\"fanpage\",data=temp)\n",
    "plt.legend(bbox_to_anchor=(1.01, 1), borderaxespad=0)\n",
    "for p in plot.patches:\n",
    "    plot.annotate(format(p.get_height(), '.2f'), \n",
    "                   (p.get_x() + p.get_width() / 2., p.get_height()), \n",
    "                   ha = 'center', va = 'center', \n",
    "                   xytext = (0, 9), \n",
    "                   textcoords = 'offset points')"
   ]
  },
  {
   "cell_type": "markdown",
   "metadata": {},
   "source": [
    "# 分階段"
   ]
  },
  {
   "cell_type": "markdown",
   "metadata": {},
   "source": [
    "## 貼文"
   ]
  },
  {
   "cell_type": "code",
   "execution_count": 22,
   "metadata": {},
   "outputs": [
    {
     "name": "stdout",
     "output_type": "stream",
     "text": [
      "---------phase 1---------\n",
      "[(0,\n",
      "  '0.124*\"振興券\" + 0.027*\"上路\" + 0.018*\"7月\" + 0.017*\"行政院\" + 0.011*\"方式\" + '\n",
      "  '0.011*\"拍板\" + 0.011*\"政府\" + 0.010*\"紓困\" + 0.010*\"排富\" + 0.010*\"蘇貞昌\"'),\n",
      " (1,\n",
      "  '0.071*\"消費券\" + 0.044*\"振興券\" + 0.032*\"馬英九\" + 0.028*\"紓困\" + 0.021*\"振興\" + '\n",
      "  '0.018*\"發現金\" + 0.016*\"抵用券\" + 0.016*\"發放\" + 0.013*\"民眾\" + 0.013*\"武漢肺炎\"'),\n",
      " (2,\n",
      "  '0.059*\"振興券\" + 0.018*\"振興\" + 0.016*\"消費\" + 0.013*\"抵用券\" + 0.012*\"消費券\" + '\n",
      "  '0.012*\"當年\" + 0.011*\"武漢肺炎\" + 0.009*\"新冠肺炎\" + 0.009*\"藍委\" + 0.007*\"上路\"'),\n",
      " (3,\n",
      "  '0.070*\"振興券\" + 0.025*\"消費券\" + 0.017*\"消費\" + 0.012*\"發放\" + 0.011*\"直接\" + '\n",
      "  '0.011*\"經濟\" + 0.011*\"紓困\" + 0.010*\"政院\" + 0.009*\"經濟部\" + 0.009*\"不夠\"'),\n",
      " (4,\n",
      "  '0.051*\"振興券\" + 0.019*\"消費\" + 0.016*\"消費券\" + 0.015*\"現金\" + 0.012*\"獨家\" + '\n",
      "  '0.012*\"經濟\" + 0.012*\"明出爐\" + 0.010*\"發放\" + 0.010*\"抵用券\" + 0.010*\"觀光\"')]\n",
      "---------phase 2---------\n",
      "[(0,\n",
      "  '0.110*\"三倍券\" + 0.041*\"振興\" + 0.030*\"懶人包\" + 0.018*\"信用\" + 0.015*\"上路\" + '\n",
      "  '0.014*\"紙本\" + 0.013*\"優惠\" + 0.013*\"使用\" + 0.010*\"開放\" + 0.010*\"方式\"'),\n",
      " (1,\n",
      "  '0.057*\"三倍券\" + 0.017*\"消費\" + 0.016*\"預購\" + 0.016*\"上路\" + 0.010*\"台南\" + '\n",
      "  '0.010*\"懶人包\" + 0.008*\"回饋\" + 0.008*\"開跑\" + 0.008*\"3倍券\" + 0.008*\"消費券\"'),\n",
      " (2,\n",
      "  '0.074*\"三倍券\" + 0.026*\"振興\" + 0.024*\"消費券\" + 0.011*\"數位\" + 0.010*\"預訂\" + '\n",
      "  '0.010*\"預購\" + 0.009*\"綁定\" + 0.009*\"政府\" + 0.009*\"加碼\" + 0.007*\"經濟\"'),\n",
      " (3,\n",
      "  '0.120*\"三倍券\" + 0.025*\"振興\" + 0.014*\"預購\" + 0.012*\"使用\" + 0.012*\"振興券\" + '\n",
      "  '0.010*\"加碼\" + 0.009*\"郵局\" + 0.008*\"吳宗憲\" + 0.008*\"蘇貞昌\" + 0.008*\"懶人包\"'),\n",
      " (4,\n",
      "  '0.083*\"三倍券\" + 0.047*\"振興券\" + 0.030*\"振興\" + 0.017*\"蘇貞昌\" + 0.016*\"預購\" + '\n",
      "  '0.013*\"唐鳳\" + 0.010*\"上路\" + 0.008*\"7月\" + 0.007*\"消費\" + 0.007*\"消費券\"')]\n",
      "---------phase 3---------\n",
      "[(0,\n",
      "  '0.103*\"三倍券\" + 0.011*\"消費\" + 0.010*\"振興券\" + 0.009*\"經濟\" + 0.009*\"領取\" + '\n",
      "  '0.008*\"店員\" + 0.008*\"民眾\" + 0.008*\"侵占\" + 0.007*\"消費券\" + 0.006*\"馬英九\"'),\n",
      " (1,\n",
      "  '0.106*\"三倍券\" + 0.023*\"振興\" + 0.011*\"超商\" + 0.010*\"消費\" + 0.010*\"民眾\" + '\n",
      "  '0.009*\"經濟\" + 0.009*\"消費券\" + 0.009*\"行政院\" + 0.008*\"郵局\" + 0.007*\"優惠\"'),\n",
      " (2,\n",
      "  '0.073*\"三倍券\" + 0.017*\"蘇貞昌\" + 0.013*\"王世堅\" + 0.011*\"振興券\" + 0.007*\"長輩\" + '\n",
      "  '0.007*\"振興\" + 0.006*\"政府\" + 0.006*\"氣炸\" + 0.006*\"求救\" + 0.006*\"浪費\"'),\n",
      " (3,\n",
      "  '0.086*\"三倍券\" + 0.034*\"講座\" + 0.026*\"消費券\" + 0.017*\"3倍券\" + 0.012*\"紙本\" + '\n",
      "  '0.012*\"夢幻\" + 0.011*\"振興\" + 0.010*\"成本\" + 0.009*\"優惠\" + 0.009*\"印製\"'),\n",
      " (4,\n",
      "  '0.065*\"三倍券\" + 0.021*\"振興券\" + 0.011*\"蘇貞昌\" + 0.008*\"消費\" + 0.008*\"夜市\" + '\n",
      "  '0.007*\"漫畫\" + 0.007*\"行政院\" + 0.006*\"統編\" + 0.005*\"期限\" + 0.005*\"動滋券\"')]\n"
     ]
    }
   ],
   "source": [
    "for phase in range(1,4):\n",
    "    print(f\"---------phase {phase}---------\")\n",
    "    num_topics = 5\n",
    "    \n",
    "    phase_posts = posts[posts['phase'] == phase]\n",
    "    \n",
    "    # prepare LDA configuration\n",
    "    post_id2word = corpora.Dictionary(phase_posts['word_list']) # Create Dictionary\n",
    "    post_texts = phase_posts['word_list'] # Create Corpus\n",
    "    post_corpus = [post_id2word.doc2bow(post_texts) for post_texts in post_texts] # Term Document Frequency\n",
    "    \n",
    "    \n",
    "    # Build LDA model\n",
    "    post_lda_model = LdaMulticore(corpus=post_corpus,\n",
    "                           id2word=post_id2word,\n",
    "                           iterations=500,\n",
    "                           num_topics=num_topics,\n",
    "                           passes=10)\n",
    "\n",
    "    # Print the Keyword in the 5 topics\n",
    "    pprint(post_lda_model.print_topics())\n",
    "    doc_lda = post_lda_model[post_corpus]\n",
    "    "
   ]
  },
  {
   "cell_type": "code",
   "execution_count": null,
   "metadata": {},
   "outputs": [],
   "source": []
  },
  {
   "cell_type": "markdown",
   "metadata": {},
   "source": [
    "## 留言"
   ]
  },
  {
   "cell_type": "code",
   "execution_count": 23,
   "metadata": {},
   "outputs": [
    {
     "name": "stdout",
     "output_type": "stream",
     "text": [
      "---------phase 1---------\n",
      "[(0, '0.038*\"政府\" + 0.021*\"振興\" + 0.021*\"人民\"'),\n",
      " (1, '0.022*\"政府\" + 0.018*\"消費卷\" + 0.017*\"振興\"'),\n",
      " (2, '0.020*\"振興\" + 0.016*\"紓困\" + 0.015*\"發現金\"'),\n",
      " (3, '0.026*\"現金\" + 0.020*\"消費\" + 0.017*\"振興\"'),\n",
      " (4, '0.014*\"消費\" + 0.013*\"人民\" + 0.011*\"直接\"')]\n",
      "---------phase 2---------\n",
      "[(0, '0.029*\"振興\" + 0.027*\"政府\" + 0.014*\"消費\"'),\n",
      " (1, '0.012*\"政府\" + 0.011*\"政策\" + 0.010*\"民進黨\"'),\n",
      " (2, '0.014*\"麻煩\" + 0.012*\"政府\" + 0.008*\"消費\"'),\n",
      " (3, '0.020*\"政府\" + 0.015*\"現金\" + 0.011*\"人民\"'),\n",
      " (4, '0.015*\"振興\" + 0.014*\"政府\" + 0.012*\"消費\"')]\n",
      "---------phase 3---------\n",
      "[(0, '0.017*\"政府\" + 0.012*\"孩子\" + 0.011*\"人民\"'),\n",
      " (1, '0.021*\"政府\" + 0.012*\"小孩\" + 0.009*\"人民\"'),\n",
      " (2, '0.009*\"台灣\" + 0.009*\"現在\" + 0.009*\"振興\"'),\n",
      " (3, '0.021*\"小孩\" + 0.012*\"政府\" + 0.012*\"媽媽\"'),\n",
      " (4, '0.016*\"排隊\" + 0.011*\"小孩\" + 0.010*\"現在\"')]\n",
      "CPU times: user 10.7 s, sys: 1.81 s, total: 12.5 s\n",
      "Wall time: 32.4 s\n"
     ]
    }
   ],
   "source": [
    "%%time\n",
    "for phase in range(1,4):\n",
    "    print(f\"---------phase {phase}---------\")\n",
    "    num_topics = 5\n",
    "    \n",
    "    phase_comments = comments_by_author[comments_by_author['phase'] == phase]\n",
    "    \n",
    "    # prepare LDA configuration\n",
    "    comment_id2word = corpora.Dictionary(phase_comments['word_list'])\n",
    "    comment_texts = phase_comments['word_list'] # Create Corpus\n",
    "    comment_corpus = [comment_id2word.doc2bow(text) for text in comment_texts]# Term Document Frequency\n",
    "    \n",
    "    \n",
    "    comment_lda_model = LdaMulticore(corpus=comment_corpus, id2word=comment_id2word, num_topics=num_topics)\n",
    "    pprint(comment_lda_model.print_topics(num_words=3))\n",
    "    doc_lda = comment_lda_model[comment_corpus]\n",
    "\n"
   ]
  },
  {
   "cell_type": "code",
   "execution_count": null,
   "metadata": {},
   "outputs": [],
   "source": []
  },
  {
   "cell_type": "code",
   "execution_count": null,
   "metadata": {},
   "outputs": [],
   "source": []
  }
 ],
 "metadata": {
  "kernelspec": {
   "display_name": "Python 3",
   "language": "python",
   "name": "python3"
  },
  "language_info": {
   "codemirror_mode": {
    "name": "ipython",
    "version": 3
   },
   "file_extension": ".py",
   "mimetype": "text/x-python",
   "name": "python",
   "nbconvert_exporter": "python",
   "pygments_lexer": "ipython3",
   "version": "3.8.7"
  }
 },
 "nbformat": 4,
 "nbformat_minor": 4
}
