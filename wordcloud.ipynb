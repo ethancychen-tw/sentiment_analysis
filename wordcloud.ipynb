{
 "cells": [
  {
   "cell_type": "code",
   "execution_count": 1,
   "id": "75399bf5",
   "metadata": {},
   "outputs": [],
   "source": [
    "import pandas as pd\n",
    "from ast import literal_eval\n",
    "from wordcloud import WordCloud\n",
    "import matplotlib.pyplot as plt"
   ]
  },
  {
   "cell_type": "code",
   "execution_count": 2,
   "id": "2a432fd3",
   "metadata": {},
   "outputs": [],
   "source": [
    "posts = pd.read_csv(\"./data/refined/post_with_seg.csv\")\n",
    "comments_by_author = pd.read_csv(\"./data/refined/comments_by_author_with_seg.csv\")\n",
    "posts['word_list'] = posts['word_list'].apply(literal_eval).dropna()\n",
    "comments_by_author['word_list'] = comments_by_author['word_list'].apply(literal_eval).dropna()"
   ]
  },
  {
   "cell_type": "markdown",
   "id": "acebc404",
   "metadata": {},
   "source": [
    "# Overall "
   ]
  },
  {
   "cell_type": "code",
   "execution_count": 3,
   "id": "eb5d402a",
   "metadata": {},
   "outputs": [],
   "source": [
    "post_words = \" \".join(posts['word_list'].explode().dropna())\n",
    "comment_words = \" \".join(comments_by_author['word_list'].explode().dropna())"
   ]
  },
  {
   "cell_type": "code",
   "execution_count": 4,
   "id": "a6bee264",
   "metadata": {},
   "outputs": [],
   "source": [
    "font_path = \"./src/fonts/msjhl.ttc\"\n",
    "background_color='white'\n",
    "width=1000\n",
    "height=1000"
   ]
  },
  {
   "cell_type": "code",
   "execution_count": 5,
   "id": "ecbe1b19",
   "metadata": {},
   "outputs": [
    {
     "data": {
      "text/plain": [
       "<wordcloud.wordcloud.WordCloud at 0x7fcf09dfd6a0>"
      ]
     },
     "execution_count": 5,
     "metadata": {},
     "output_type": "execute_result"
    }
   ],
   "source": [
    "post_wordcloud = WordCloud(background_color=background_color, font_path=font_path,width=width, height=height,collocations=False).generate(post_words)\n",
    "post_wordcloud.to_file('post_wordcloud.png')\n",
    "comment_wordcloud = WordCloud(background_color=background_color, font_path=font_path,width=width, height=height,collocations=False).generate(comment_words)\n",
    "comment_wordcloud.to_file('comment_wordcloud.png')"
   ]
  },
  {
   "cell_type": "code",
   "execution_count": 6,
   "id": "faa03df5",
   "metadata": {},
   "outputs": [],
   "source": [
    "post_words = \" \".join(posts['word_list'].apply(lambda x:[i for i in x if len(i)>1]).explode().dropna())\n",
    "comment_words = \" \".join(comments_by_author['word_list'].apply(lambda x:[i for i in x if len(i) > 1 ]).explode().dropna())\n"
   ]
  },
  {
   "cell_type": "code",
   "execution_count": 7,
   "id": "bb500873",
   "metadata": {},
   "outputs": [
    {
     "data": {
      "text/plain": [
       "<wordcloud.wordcloud.WordCloud at 0x7fcf09f80310>"
      ]
     },
     "execution_count": 7,
     "metadata": {},
     "output_type": "execute_result"
    }
   ],
   "source": [
    "post_wordcloud = WordCloud(background_color=background_color, font_path=font_path,width=width, height=height,collocations=False).generate(post_words)\n",
    "post_wordcloud.to_file('post_wordcloud_clean.png')\n",
    "comment_wordcloud = WordCloud(background_color=background_color, font_path=font_path,width=width, height=height,collocations=False).generate(comment_words)\n",
    "comment_wordcloud.to_file('comment_wordcloud_clean.png')"
   ]
  },
  {
   "cell_type": "markdown",
   "id": "0e5e486b",
   "metadata": {},
   "source": [
    "# By phase"
   ]
  },
  {
   "cell_type": "code",
   "execution_count": 8,
   "id": "97971c2c",
   "metadata": {},
   "outputs": [],
   "source": [
    "comments_by_author['phase'] = comments_by_author['post_url'].map(posts.set_index('post_url')['phase'])"
   ]
  },
  {
   "cell_type": "code",
   "execution_count": 9,
   "id": "e632c57b",
   "metadata": {},
   "outputs": [],
   "source": [
    "for phase in range(1,4):\n",
    "    phase_posts = posts[posts['phase'] == phase]\n",
    "    phase_comments = comments_by_author[comments_by_author['phase'] == phase]\n",
    "    post_words = \" \".join(phase_posts['word_list'].apply(lambda x:[i for i in x if len(i)>1]).explode().dropna())\n",
    "    comment_words = \" \".join(phase_comments['word_list'].apply(lambda x:[i for i in x if len(i) > 1 ]).explode().dropna())\n",
    "    post_wordcloud = WordCloud(background_color=background_color, font_path=font_path,width=width, height=height,collocations=False).generate(post_words)\n",
    "    post_wordcloud.to_file(f'post_phase{phase}_wordcloud_clean.png')\n",
    "    comment_wordcloud = WordCloud(background_color=background_color, font_path=font_path,width=width, height=height,collocations=False).generate(comment_words)\n",
    "    comment_wordcloud.to_file(f'comment_phase{phase}_wordcloud_clean.png')"
   ]
  },
  {
   "cell_type": "code",
   "execution_count": null,
   "id": "efd313fd",
   "metadata": {},
   "outputs": [],
   "source": []
  }
 ],
 "metadata": {
  "kernelspec": {
   "display_name": "Python 3",
   "language": "python",
   "name": "python3"
  },
  "language_info": {
   "codemirror_mode": {
    "name": "ipython",
    "version": 3
   },
   "file_extension": ".py",
   "mimetype": "text/x-python",
   "name": "python",
   "nbconvert_exporter": "python",
   "pygments_lexer": "ipython3",
   "version": "3.8.7"
  }
 },
 "nbformat": 4,
 "nbformat_minor": 5
}
